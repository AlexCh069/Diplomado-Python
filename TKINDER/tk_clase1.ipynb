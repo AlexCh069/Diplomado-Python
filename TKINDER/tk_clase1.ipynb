{
 "cells": [
  {
   "cell_type": "code",
   "execution_count": 1,
   "metadata": {},
   "outputs": [],
   "source": [
    "# IMPORTAMOS LA BIBLIOTECA\n",
    "import tkinter as tk\n",
    "import tkinter.ttk as ttk\n"
   ]
  },
  {
   "cell_type": "code",
   "execution_count": null,
   "metadata": {},
   "outputs": [],
   "source": [
    "# Instanciar el GUI\n",
    "ventana = tk.Tk()\n",
    "ventana.title(\"Primer loop\")\n",
    "\n",
    "# Añadir contenido a la ventana\n",
    "label1 = tk.Label(text= \"Python rocks!\")\n",
    "label1.pack()   # Necesario para iniciar el widget creado\n",
    "\n",
    "# Ejecutar el bucle principal\n",
    "ventana.mainloop()  # Siempre necesario para abrir la ventana creada\n"
   ]
  },
  {
   "cell_type": "code",
   "execution_count": 22,
   "metadata": {},
   "outputs": [],
   "source": [
    "ventana = tk.Tk()\n",
    "ventana.title(\"GUI CON BOTON\")\n",
    "\n",
    "# Contenido de la ventana\n",
    "\n",
    "# ETIQUETA (Label) ----------------------------------------------------------------\n",
    "label1 = tk.Label(\n",
    "    text=\"BOTON\",\n",
    "    foreground=\"#34A2FE\",       # Color de texto\n",
    "    background=\"green\",         # Color de fondo del texto\n",
    "    width=10,                   # Ancho de fondo\n",
    "    height=4,                  # Altura de fondo\n",
    "    font=(\"Times New Roman\", 25)          # Fuente de texto font = (\"Fuente\",#Tamaño)\n",
    "    )\n",
    "label1.pack()\n",
    "\n",
    "# NOTA: width y height usan unidades de texto para garantizar un comportamiento consistente\n",
    "# en todas las plataformas, en este caso una unidad corresponde a la anchura o alto de un \"0\"\n",
    "# ----------------------------------------------------------------------------------------\n",
    "\n",
    "# BOTONES (Button) ----------------------------------------------------------------\n",
    "button = tk.Button(\n",
    "    text=\"Click aqui\",          # Texto en el boton\n",
    "    width=10,                   # Ancho de fondo\n",
    "    height=5,                   # Altura de fondo\n",
    "    fg= \"red\",                  # Color de texto\n",
    "    bg= \"black\",                # Color de fondo de texto\n",
    "    font=(\"Times New Roman\", 25)    # Fuente de texto font = (\"Fuente\",#Tamaño)\n",
    "    )\n",
    "button.pack()\n",
    "# ----------------------------------------------------------------------------------------\n",
    "\n",
    "ventana.mainloop()"
   ]
  },
  {
   "cell_type": "code",
   "execution_count": 12,
   "metadata": {},
   "outputs": [],
   "source": [
    "# WIDGET - TEXT\n",
    "\n",
    "import tkinter as tk\n",
    "\n",
    "\"\"\"\n",
    "Este GUI cuenta con dos cuadros de entrada y cuatro botones, el primer cuadro\n",
    "es para entrada de texto, tmbn se puede borrar el texto, con el tercer boton podemos \n",
    "desplazar el texto del segundo cuadro al primero.\n",
    "El ultimo boton sirve para cerrar la ventana\n",
    "\"\"\"\n",
    "\n",
    "def obtener_texto():\n",
    "    texto = entry.get()  # Obtiene el texto ingresado en el Entry\n",
    "    print(\"Texto ingresado:\", texto)\n",
    "    return texto\n",
    "\n",
    "def borrar_texto(lower_limit = 0, upper_limit = 2):\n",
    "    #delet_text = entry.delete(lower_limit, upper_limit) # Necesita valores limites  \n",
    "    delet_text = entry.delete(0,tk.END)\n",
    "    delet_text = entry.get() \n",
    "    print(\"Texto borrado:\", delet_text)\n",
    "\n",
    "def insert_texto():\n",
    "    get_entry2 = entry2.get() \n",
    "    insert_text = entry.insert(tk.END, get_entry2)\n",
    "    insert_text = entry.get() \n",
    "    print(\"Texto insertado:\", insert_text)\n",
    "\n",
    "def close_page():\n",
    "    root.destroy()    \n",
    "\n",
    "root = tk.Tk()\n",
    "\n",
    "# Entry para ingresar texto\n",
    "label_entry = tk.Label(root, text = \"Entry 1:\")\n",
    "label_entry.pack()\n",
    "entry = tk.Entry(root)\n",
    "entry.pack()\n",
    "\n",
    "label_entry2 = tk.Label(root,text=\"Entry modify: \")\n",
    "label_entry2.pack()\n",
    "entry2 = tk.Entry(root)\n",
    "entry2.pack()\n",
    "\n",
    "\n",
    "# Botón para obtener el texto ingresado\n",
    "boton_get = tk.Button(root, text=\"Obtener texto\", command=obtener_texto)\n",
    "boton_get.pack()\n",
    "\n",
    "boton_delete = tk.Button(root, text=\"Borrar texto texto\", command=borrar_texto)\n",
    "boton_delete.pack()\n",
    "\n",
    "boton_entry = tk.Button(root, text=\"Agregar texto a entry\", command=insert_texto) \n",
    "boton_entry.pack()\n",
    "\n",
    "close_boton = tk.Button(root, text=\"Boton para cerrar pestaña\", command=close_page)\n",
    "close_boton.pack()\n",
    "\n",
    "root.mainloop()\n"
   ]
  },
  {
   "cell_type": "code",
   "execution_count": 9,
   "metadata": {},
   "outputs": [
    {
     "name": "stdout",
     "output_type": "stream",
     "text": [
      "Texto ingresado:\n",
      " asdasd\n",
      "Texto ingresado:\n",
      " \n"
     ]
    }
   ],
   "source": [
    "# WIDGET - TEXT\n",
    "\n",
    "import tkinter as tk\n",
    "\n",
    "def obtener_texto():\n",
    "    # text.get() necesita de sus parametros para su correcto funcionamiento\n",
    "    texto = text_widget.get(\"1.0\", \"end-1c\")  # Obtiene todo el texto en el widget Text\n",
    "    # notacion: \"<fila,caracter>\"\n",
    "    print(\"Texto ingresado:\\n\", texto)\n",
    "\n",
    "def insertar_texto():\n",
    "    text_widget.insert(tk.END, \"Texto insertado\")\n",
    "    # Interta el texto en la posicion final, se puede modificar el primer parametro\n",
    "    # para especificar otra ubicacion para ingresar el texto\n",
    "\n",
    "def borrar_texto():\n",
    "    text_widget.delete(\"1.0\", tk.END)\n",
    "\n",
    "def close_page():\n",
    "    root.destroy()\n",
    "\n",
    "root = tk.Tk()\n",
    "\n",
    "# Widget Text para ingresar texto\n",
    "text_widget = tk.Text(root, height=5, width=30)\n",
    "text_widget.pack()\n",
    "\n",
    "# Botón para obtener el texto ingresado\n",
    "boton = tk.Button(root, text=\"Obtener texto\", command=obtener_texto)\n",
    "boton.pack()\n",
    "\n",
    "boton_insert = tk.Button(root, text=\"Inserta texto\", command=insertar_texto)\n",
    "boton_insert.pack()\n",
    "\n",
    "boton_delete = tk.Button(root, text=\"borrar todo\", command=borrar_texto)\n",
    "boton_delete.pack()\n",
    "\n",
    "close_boton = tk.Button(root, text=\"Close boton\", command=close_page)\n",
    "close_boton.pack()\n",
    "\n",
    "root.mainloop()\n"
   ]
  },
  {
   "cell_type": "markdown",
   "metadata": {},
   "source": [
    "Un Frame en Tkinter es un contenedor rectangular que se utiliza para organizar y agrupar otros widgets. Es esencialmente un contenedor invisible que puede contener varios widgets (como botones, etiquetas, campos de texto, etc.) y otros frames."
   ]
  },
  {
   "cell_type": "code",
   "execution_count": 7,
   "metadata": {},
   "outputs": [],
   "source": [
    "import tkinter as tk\n",
    "\n",
    "root = tk.Tk()\n",
    "root.title(\"Ejemplo de Frame\")\n",
    "\n",
    "def cerrar():\n",
    "    root.destroy()\n",
    "\n",
    "# Crear un Frame\n",
    "# tk.Frame(<ventana_master>, parametros...)\n",
    "frame = tk.Frame(root, borderwidth=2, relief=tk.GROOVE)\n",
    "frame.pack(padx=10, pady=10)\n",
    "\n",
    "# Agregar widgets al Frame\n",
    "# tk.Label(<ventana_master_o_Frame>, parametros...)\n",
    "label = tk.Label(frame, text=\"Esto está dentro del Frame\")\n",
    "label.pack()\n",
    "\n",
    "# tk.Label(<ventana_master_o_frame>, parametros...)\n",
    "button = tk.Button(frame, text=\"Haz clic\")\n",
    "button.pack()\n",
    "\n",
    "boton_close = tk.Button(root, text=\"Cerrar\", command=cerrar)\n",
    "boton_close.pack()\n",
    "\n",
    "root.mainloop()\n"
   ]
  },
  {
   "cell_type": "markdown",
   "metadata": {},
   "source": [
    "Nota: Si omite el argumento master al crear una nueva instancia de widget, se colocará dentro de la ventana de nivel superior. de forma predeterminada."
   ]
  },
  {
   "cell_type": "code",
   "execution_count": 12,
   "metadata": {},
   "outputs": [],
   "source": [
    "import tkinter as tk\n",
    "\n",
    "window = tk.Tk()\n",
    "\n",
    "frame_a = tk.Frame(window, borderwidth=2, relief=tk.GROOVE)\n",
    "frame_b = tk.Frame(window, borderwidth=2, relief=tk.GROOVE)\n",
    "\n",
    "label_a = tk.Label(master=frame_a, text=\"I'm in Frame A\")\n",
    "label_a.pack()\n",
    "\n",
    "label_b = tk.Label(master=frame_b, text=\"I'm in Frame B\")\n",
    "label_b.pack()\n",
    "\n",
    "# Sin especificacion de master\n",
    "label_c = tk.Label(text=\"I'm C\")\n",
    "label_c.pack()\n",
    "# El orden de invocacion de frame es relevante, ya que seran introducidos de forma consecutiva\n",
    "frame_b.pack()\n",
    "frame_a.pack()\n",
    "\n",
    "window.mainloop()"
   ]
  },
  {
   "cell_type": "markdown",
   "metadata": {},
   "source": [
    "Aquí hay un script que empaqueta cinco Frame widgets en una ventana, cada uno con un valor diferente para el argumento relief:"
   ]
  },
  {
   "cell_type": "code",
   "execution_count": 13,
   "metadata": {},
   "outputs": [],
   "source": [
    "import tkinter as tk\n",
    "\n",
    "border_effects = {\n",
    "    \"flat\": tk.FLAT,\n",
    "    \"sunken\": tk.SUNKEN,\n",
    "    \"raised\": tk.RAISED,\n",
    "    \"groove\": tk.GROOVE,\n",
    "    \"ridge\": tk.RIDGE,\n",
    "}\n",
    "\n",
    "window = tk.Tk()\n",
    "\n",
    "for relief_name, relief in border_effects.items():\n",
    "    frame = tk.Frame(master=window, relief=relief, borderwidth=5)\n",
    "    frame.pack(side=tk.LEFT)\n",
    "    label = tk.Label(master=frame, text=relief_name)\n",
    "    label.pack()\n",
    "\n",
    "window.mainloop()"
   ]
  },
  {
   "cell_type": "code",
   "execution_count": 8,
   "metadata": {},
   "outputs": [],
   "source": [
    "label1 = tk.Label(text=\"Prueba\")\n",
    "label1.pack()"
   ]
  },
  {
   "cell_type": "code",
   "execution_count": 6,
   "metadata": {},
   "outputs": [],
   "source": [
    "class Aplicacion():\n",
    "    def __init__(self):\n",
    "        self.ventana1 = tk.Tk()\n",
    "        self.ventana1.title(\"Hola mundo\")\n",
    "        self.ventana1.mainloop()"
   ]
  },
  {
   "cell_type": "code",
   "execution_count": 7,
   "metadata": {},
   "outputs": [],
   "source": [
    "aplicacion = Aplicacion()"
   ]
  }
 ],
 "metadata": {
  "kernelspec": {
   "display_name": "Python 3",
   "language": "python",
   "name": "python3"
  },
  "language_info": {
   "codemirror_mode": {
    "name": "ipython",
    "version": 3
   },
   "file_extension": ".py",
   "mimetype": "text/x-python",
   "name": "python",
   "nbconvert_exporter": "python",
   "pygments_lexer": "ipython3",
   "version": "3.12.0"
  }
 },
 "nbformat": 4,
 "nbformat_minor": 2
}
