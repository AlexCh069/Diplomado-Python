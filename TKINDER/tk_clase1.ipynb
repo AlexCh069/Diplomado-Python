{
 "cells": [
  {
   "cell_type": "code",
   "execution_count": 1,
   "metadata": {},
   "outputs": [],
   "source": [
    "# IMPORTAMOS LA BIBLIOTECA\n",
    "import tkinter as tk\n",
    "import tkinter.ttk as ttk # tkinder avanzado por asi decirlo \n"
   ]
  },
  {
   "cell_type": "code",
   "execution_count": 2,
   "metadata": {},
   "outputs": [],
   "source": [
    "# Instanciar el GUI\n",
    "ventana = tk.Tk()\n",
    "ventana.title(\"Primer loop\")\n",
    "\n",
    "# Añadir contenido a la ventana\n",
    "label1 = tk.Label(text= \"Python rocks!\")\n",
    "label1.pack()   # Necesario para iniciar el widget creado\n",
    "\n",
    "# Ejecutar el bucle principal\n",
    "ventana.mainloop()  # Siempre necesario para abrir la ventana creada\n"
   ]
  },
  {
   "cell_type": "code",
   "execution_count": 6,
   "metadata": {},
   "outputs": [],
   "source": [
    "ventana = tk.Tk()\n",
    "ventana.title(\"GUI CON BOTON\")\n",
    "\n",
    "# Contenido de la ventana\n",
    "\n",
    "# ETIQUETA (Label) ----------------------------------------------------------------\n",
    "label1 = tk.Label(\n",
    "    text=\"BOTON ABAJO\",\n",
    "    foreground=\"#34A2FE\",       # Color de texto\n",
    "    background=\"green\",         # Color de fondo del texto\n",
    "    width=10,                   # Ancho de fondo\n",
    "    height=4,                  # Altura de fondo\n",
    "    font=(\"Times New Roman\", 25)          # Fuente de texto font = (\"Fuente\",#Tamaño)\n",
    "    )\n",
    "label1.pack()\n",
    "\n",
    "# NOTA: width y height usan unidades de texto para garantizar un comportamiento consistente\n",
    "# en todas las plataformas, en este caso una unidad corresponde a la anchura o alto de un \"0\"\n",
    "# ----------------------------------------------------------------------------------------\n",
    "\n",
    "# BOTONES (Button) ----------------------------------------------------------------\n",
    "button = tk.Button(\n",
    "    text=\"Click aqui\",          # Texto en el boton\n",
    "    width=10,                   # Ancho de fondo\n",
    "    height=5,                   # Altura de fondo\n",
    "    fg= \"red\",                  # Color de texto\n",
    "    bg= \"black\",                # Color de fondo de texto\n",
    "    font=(\"Times New Roman\", 25)    # Fuente de texto font = (\"Fuente\",#Tamaño)\n",
    "    )\n",
    "button.pack()\n",
    "# ----------------------------------------------------------------------------------------\n",
    "\n",
    "ventana.mainloop()"
   ]
  },
  {
   "cell_type": "code",
   "execution_count": 9,
   "metadata": {},
   "outputs": [
    {
     "name": "stdout",
     "output_type": "stream",
     "text": [
      "Closing window...\n"
     ]
    }
   ],
   "source": [
    "# WIDGET - ENTRY\n",
    "\n",
    "import tkinter as tk\n",
    "\n",
    "\"\"\"\n",
    "Este GUI cuenta con dos cuadros de entrada y cuatro botones, el primer cuadro\n",
    "es para entrada de texto, tmbn se puede borrar el texto, con el tercer boton podemos \n",
    "desplazar el texto del segundo cuadro al primero.\n",
    "El ultimo boton sirve para cerrar la ventana\n",
    "\"\"\"\n",
    "\n",
    "def obtener_texto():\n",
    "    texto = entry.get()  # Obtiene el texto ingresado en el Entry\n",
    "    print(\"Texto ingresado:\", texto)\n",
    "    return texto\n",
    "\n",
    "def borrar_texto(lower_limit = 0, upper_limit = 2):\n",
    "    #delet_text = entry.delete(lower_limit, upper_limit) # Necesita valores limites  \n",
    "    delet_text = entry.delete(0,tk.END)\n",
    "    delet_text = entry.get() \n",
    "    print(\"Texto borrado:\", delet_text)\n",
    "\n",
    "def insert_texto():\n",
    "    get_entry2 = entry2.get() \n",
    "    insert_text = entry.insert(tk.END, get_entry2)\n",
    "    insert_text = entry.get() \n",
    "    print(\"Texto insertado:\", insert_text)\n",
    "\n",
    "def close_page():\n",
    "    print(\"Closing window...\")\n",
    "    root.destroy()    \n",
    "\n",
    "root = tk.Tk()\n",
    "\n",
    "# Entry para ingresar texto\n",
    "label_entry = tk.Label(root, text = \"Entry 1:\")\n",
    "label_entry.pack()\n",
    "entry = tk.Entry(root)\n",
    "entry.pack()\n",
    "\n",
    "label_entry2 = tk.Label(root,text=\"Entry modify: \")\n",
    "label_entry2.pack()\n",
    "entry2 = tk.Entry(root)\n",
    "entry2.pack()\n",
    "\n",
    "\n",
    "# Botón para obtener el texto ingresado\n",
    "boton_get = tk.Button(root, text=\"Obtener texto\", command=obtener_texto)\n",
    "boton_get.pack()\n",
    "\n",
    "boton_delete = tk.Button(root, text=\"Borrar texto texto\", command=borrar_texto)\n",
    "boton_delete.pack()\n",
    "\n",
    "boton_entry = tk.Button(root, text=\"Agregar texto a entry\", command=insert_texto) \n",
    "boton_entry.pack()\n",
    "\n",
    "close_boton = tk.Button(root, text=\"Boton para cerrar pestaña\", command=close_page)\n",
    "close_boton.pack()\n",
    "\n",
    "root.mainloop()\n"
   ]
  },
  {
   "cell_type": "code",
   "execution_count": 10,
   "metadata": {},
   "outputs": [
    {
     "name": "stdout",
     "output_type": "stream",
     "text": [
      "Texto ingresado:\n",
      " Defokdkjf \n",
      "psdkfosdkf\n",
      " \n",
      "sdlfp´sd f\n",
      "sdlf kf+\n",
      "\n",
      "Closing the page...\n"
     ]
    }
   ],
   "source": [
    "# WIDGET - TEXT\n",
    "\n",
    "import tkinter as tk\n",
    "\n",
    "def obtener_texto():\n",
    "    # text.get() necesita de sus parametros para su correcto funcionamiento\n",
    "    texto = text_widget.get(\"1.0\", \"end-1c\")  # Obtiene todo el texto en el widget Text\n",
    "    # notacion: \"<fila,caracter>\"\n",
    "    print(\"Texto ingresado:\\n\", texto)\n",
    "\n",
    "def insertar_texto():\n",
    "    text_widget.insert(tk.END, \"Texto insertado\")\n",
    "    # Interta el texto en la posicion final, se puede modificar el primer parametro\n",
    "    # para especificar otra ubicacion para ingresar el texto\n",
    "\n",
    "def borrar_texto():\n",
    "    text_widget.delete(\"1.0\", tk.END)\n",
    "\n",
    "def close_page():\n",
    "    print(\"Closing the page...\")\n",
    "    root.destroy()\n",
    "\n",
    "root = tk.Tk()\n",
    "\n",
    "# Widget Text para ingresar texto\n",
    "text_widget = tk.Text(root, height=5, width=30)\n",
    "text_widget.pack()\n",
    "\n",
    "# Botón para obtener el texto ingresado\n",
    "boton = tk.Button(root, text=\"Obtener texto\", command=obtener_texto)\n",
    "boton.pack()\n",
    "\n",
    "boton_insert = tk.Button(root, text=\"Inserta texto\", command=insertar_texto)\n",
    "boton_insert.pack()\n",
    "\n",
    "boton_delete = tk.Button(root, text=\"borrar todo\", command=borrar_texto)\n",
    "boton_delete.pack()\n",
    "\n",
    "close_boton = tk.Button(root, text=\"Close boton\", command=close_page)\n",
    "close_boton.pack()\n",
    "\n",
    "root.mainloop()\n"
   ]
  },
  {
   "cell_type": "markdown",
   "metadata": {},
   "source": [
    "### Frame"
   ]
  },
  {
   "cell_type": "markdown",
   "metadata": {},
   "source": [
    "Un Frame en Tkinter es un contenedor rectangular que se utiliza para organizar y agrupar otros widgets. Es esencialmente un contenedor invisible que puede contener varios widgets (como botones, etiquetas, campos de texto, etc.) y otros frames."
   ]
  },
  {
   "cell_type": "code",
   "execution_count": 1,
   "metadata": {},
   "outputs": [],
   "source": [
    "import tkinter as tk\n",
    "\n",
    "root = tk.Tk()\n",
    "root.title(\"Ejemplo de Frame\")\n",
    "\n",
    "def cerrar():\n",
    "    root.destroy()\n",
    "\n",
    "# Crear un Frame\n",
    "# tk.Frame(<ventana_master>, parametros...)\n",
    "frame = tk.Frame(root, borderwidth=2, relief=tk.RAISED)\n",
    "frame.pack(padx=10, pady=10)\n",
    "\n",
    "# Agregar widgets al Frame\n",
    "# tk.Label(<ventana_master_o_Frame>, parametros...)\n",
    "label = tk.Label(frame, text=\"Esto está dentro del Frame\")\n",
    "label.pack()\n",
    "\n",
    "# tk.Label(<ventana_master_o_frame>, parametros...)\n",
    "button = tk.Button(frame, text=\"Haz clic\")\n",
    "button.pack()\n",
    "\n",
    "boton_close = tk.Button(root, text=\"Cerrar\", command=cerrar)\n",
    "boton_close.pack()\n",
    "\n",
    "root.mainloop()\n"
   ]
  },
  {
   "cell_type": "markdown",
   "metadata": {},
   "source": [
    "Nota: Si omite el argumento master al crear una nueva instancia de widget, se colocará dentro de la ventana de nivel superior. de forma predeterminada."
   ]
  },
  {
   "cell_type": "code",
   "execution_count": 2,
   "metadata": {},
   "outputs": [],
   "source": [
    "import tkinter as tk\n",
    "\n",
    "window = tk.Tk()\n",
    "\n",
    "frame_a = tk.Frame(window, borderwidth=2, relief=tk.GROOVE)\n",
    "frame_b = tk.Frame(window, borderwidth=2, relief=tk.GROOVE)\n",
    "\n",
    "label_a = tk.Label(master=frame_a, text=\"I'm in Frame A\")\n",
    "label_a.pack()\n",
    "\n",
    "label_b = tk.Label(master=frame_b, text=\"I'm in Frame B\")\n",
    "label_b.pack()\n",
    "\n",
    "# Sin especificacion de master\n",
    "label_c = tk.Label(text=\"I'm C\")\n",
    "# El orden de invocacion de frame es relevante, ya que seran introducidos de forma consecutiva\n",
    "frame_b.pack()\n",
    "label_c.pack()\n",
    "frame_a.pack()\n",
    "\n",
    "window.mainloop()"
   ]
  },
  {
   "cell_type": "markdown",
   "metadata": {},
   "source": [
    "Aquí hay un script que empaqueta cinco Frame widgets en una ventana, cada uno con un valor diferente para el argumento relief:"
   ]
  },
  {
   "cell_type": "code",
   "execution_count": 3,
   "metadata": {},
   "outputs": [],
   "source": [
    "import tkinter as tk\n",
    "\n",
    "border_effects = {      # Efectos de borde (relieves)\n",
    "    \"flat\": tk.FLAT,\n",
    "    \"sunken\": tk.SUNKEN,\n",
    "    \"raised\": tk.RAISED,\n",
    "    \"groove\": tk.GROOVE,\n",
    "    \"ridge\": tk.RIDGE,\n",
    "}\n",
    "\n",
    "window = tk.Tk()\n",
    "\n",
    "for relief_name, relief in border_effects.items():\n",
    "    frame = tk.Frame(master=window,     # ventana_master\n",
    "                     relief=relief,     # efecto de borde\n",
    "                     borderwidth=10)    # ajuste del ancho del borde\n",
    "    frame.pack() #frame.pack(side=tk.LEFT) -> parametro para modificar el orden de los wifget dentro del frame\n",
    "    label = tk.Label(master=frame, text=relief_name)\n",
    "    label.pack()\n",
    "\n",
    "window.mainloop()"
   ]
  },
  {
   "cell_type": "code",
   "execution_count": 30,
   "metadata": {},
   "outputs": [],
   "source": [
    "# EJERCICIO 1\n",
    "root = tk.Tk()\n",
    "root.title(\"Verific. 1\")\n",
    "\n",
    "ent = tk.Entry(root,\n",
    "               width    =   40,         # tamaño en # de caracteres\n",
    "               bg       =   \"white\",    # color de fondo\n",
    "               fg       =   \"black\")    # color de letra\n",
    "\n",
    "ent.insert(0, \"What is your name?\")\n",
    "\n",
    "ent.pack()\n",
    "root.mainloop()\n"
   ]
  },
  {
   "cell_type": "markdown",
   "metadata": {},
   "source": [
    "### Administradores de geometria\n",
    "\n",
    "El diseño de las aplicaciones en tkinder se realiza a partir de los controles de simtria, tkinder cuenta con 3:\n",
    "- .pack()\n",
    "- .place()\n",
    "- .grid()\n",
    "\n",
    "Cada frame puede usar solo un administrador de geometria, pero diferentes marcos pueden usar diferentes administradores de geometria.\n"
   ]
  },
  {
   "cell_type": "markdown",
   "metadata": {},
   "source": [
    "#### 1. **.pack()**\n",
    "\n",
    "Este administrador se encarga de organizar los frame en orden especifico. Para un widget determinado, funciona de la siguiente manera:\n",
    "1. Calcula que el espacio sea lo suficientemente alto para que contener el widget. el ancho restante lo llena con blanco\n",
    "2. Centra el widget dentro del frame que le corresponda (a menos que se especifique una ubicacion diferente)\n",
    "\n"
   ]
  },
  {
   "cell_type": "code",
   "execution_count": 5,
   "metadata": {},
   "outputs": [],
   "source": [
    "import tkinter as tk\n",
    "\n",
    "window = tk.Tk()\n",
    "\n",
    "frame1 = tk.Frame(master=window, width=150, height=100, bg=\"red\")\n",
    "frame1.pack()\n",
    "\n",
    "frame2 = tk.Frame(master=window, width=50, height=50, bg=\"yellow\")\n",
    "frame2.pack()\n",
    "\n",
    "frame3 = tk.Frame(master=window, width=25, height=25, bg=\"blue\")\n",
    "frame3.pack()\n",
    "\n",
    "window.mainloop()"
   ]
  },
  {
   "cell_type": "markdown",
   "metadata": {},
   "source": [
    "En el ejemplo anterio se puede ver como .pack() calculo el espacio necesario para el widget, al momento de agradar la ventana trata de conservar sus propiedades"
   ]
  },
  {
   "cell_type": "markdown",
   "metadata": {},
   "source": [
    "## Argumentos de .pack()\n"
   ]
  },
  {
   "cell_type": "markdown",
   "metadata": {},
   "source": [
    "\n",
    "fill \n",
    "---\n",
    "Para indicar la direccion en la que deben llenarse los marcos en ausencia de una referencia. Los paramentros posibles son: \n",
    "\n",
    "- tk.X: Rellenar el la direccion horizontal\n",
    "- tk.Y: Rellenar el la dirección vertical"
   ]
  },
  {
   "cell_type": "code",
   "execution_count": 6,
   "metadata": {},
   "outputs": [],
   "source": [
    "# tk.X -> Relleno en direccion horizontal (EJEMPLO)\n",
    "window = tk.Tk()\n",
    "frm_1 = tk.Frame(master=window, height=50, bg = \"red\")\n",
    "frm_1.pack(fill=tk.X)\n",
    "\n",
    "frm_2 = tk.Frame(master=window, height=20, bg = \"Blue\")\n",
    "frm_2.pack(fill=tk.X)\n",
    "\n",
    "window.mainloop()"
   ]
  },
  {
   "cell_type": "markdown",
   "metadata": {},
   "source": [
    "Para el caso de tk.Y, es necesario especificar una ubicacion especifica del widget (argumento side). Esta vez, debe especificar el \"height\" argumento de la palabra clave en al menos uno de los marcos para forzar que la ventana tenga cierta altura."
   ]
  },
  {
   "cell_type": "code",
   "execution_count": 7,
   "metadata": {},
   "outputs": [],
   "source": [
    "import tkinter as tk\n",
    "\n",
    "window = tk.Tk()\n",
    "\n",
    "frame1 = tk.Frame(master=window, width=200, height=100, bg=\"red\")\n",
    "frame1.pack(fill=tk.Y, side=tk.LEFT)\n",
    "\n",
    "frame2 = tk.Frame(master=window, width=50, bg=\"blue\")\n",
    "frame2.pack(fill=tk.Y, side=tk.LEFT)\n",
    "\n",
    "window.mainloop()"
   ]
  },
  {
   "cell_type": "markdown",
   "metadata": {},
   "source": [
    "side \n",
    "---\n",
    "Especifica en que lado de la ventana se debe colocar el widget.\n",
    "- tk.TOP        -> por defecto (en orden de instanciado)\n",
    "- tk.BOTTOM -> ubicacion en la parte mas baja de la ventana\n",
    "- tk.LEFT   -> ubicacion a la izquierda\n",
    "- tk.RIGHT  -> ubicacion a la derecha"
   ]
  },
  {
   "cell_type": "code",
   "execution_count": 8,
   "metadata": {},
   "outputs": [],
   "source": [
    "# EJEMPLO USADO TODOS LOS PARAMETROS DE side\n",
    "window = tk.Tk()\n",
    "\n",
    "frm_1 = tk.Frame(master=window,width=50 ,height=50,bg ='red')\n",
    "frm_1.pack(fill=tk.X,side= tk.TOP)\n",
    "\n",
    "frm_2 = tk.Frame(master=window,width=20 ,height=20,bg ='BLUE')\n",
    "frm_2.pack(fill=tk.X,side= tk.BOTTOM)\n",
    "\n",
    "frm_3 = tk.Frame(master=window,width=20 ,height=20,bg ='green')\n",
    "frm_3.pack(fill=tk.Y,side= tk.LEFT)\n",
    "\n",
    "frm_4 = tk.Frame(master=window,width=20 ,height=20,bg ='black')\n",
    "frm_4.pack(fill=tk.Y,side= tk.RIGHT)\n",
    "\n",
    "\n",
    "window.mainloop()\n"
   ]
  },
  {
   "cell_type": "markdown",
   "metadata": {},
   "source": [
    "expand = True\n",
    "---\n",
    "Argumento usado para cambiar el tamaño de la ventana a nuestro gusto, los widgets se expandiran de acuerdo a como se vaya expandiendo la ventana."
   ]
  },
  {
   "cell_type": "code",
   "execution_count": 10,
   "metadata": {},
   "outputs": [],
   "source": [
    "import tkinter as tk\n",
    "\n",
    "window = tk.Tk()\n",
    "\n",
    "frame1 = tk.Frame(master=window, width=200, height=100, bg=\"red\")\n",
    "frame1.pack(fill=tk.BOTH, side=tk.LEFT, expand=True)\n",
    "\n",
    "frame2 = tk.Frame(master=window, width=100, bg=\"yellow\")    \n",
    "frame2.pack(fill=tk.BOTH, side=tk.LEFT)     # Sin expand\n",
    "\n",
    "frame3 = tk.Frame(master=window, width=50, bg=\"blue\")\n",
    "frame3.pack(fill=tk.BOTH, side=tk.LEFT, expand=True)\n",
    "\n",
    "window.mainloop()"
   ]
  },
  {
   "cell_type": "markdown",
   "metadata": {},
   "source": [
    "Notese como al no agregar el parametro expand al frame2, este mantiene su anchura determinada mientras el resto cambia de acuerdo a como se expande la ventana"
   ]
  },
  {
   "cell_type": "code",
   "execution_count": 12,
   "metadata": {},
   "outputs": [],
   "source": [
    "import tkinter as tk\n",
    "\n",
    "window = tk.Tk()\n",
    "\n",
    "frame1 = tk.Frame(master=window, width=200, height=100, bg=\"red\")\n",
    "frame1.pack(fill=tk.BOTH, side=tk.LEFT, expand=True)\n",
    "\n",
    "frame2 = tk.Frame(master=window, width=100, bg=\"yellow\")\n",
    "frame2.pack(fill=tk.BOTH, side=tk.LEFT, expand=True)\n",
    "\n",
    "frame3 = tk.Frame(master=window, width=50, bg=\"blue\")\n",
    "frame3.pack(fill=tk.BOTH, side=tk.LEFT, expand=True)\n",
    "\n",
    "window.mainloop()"
   ]
  },
  {
   "cell_type": "markdown",
   "metadata": {},
   "source": [
    ".place()\n",
    "---\n",
    "Utilizado para controlar la ubicacion precisa  que debe ocupar el widget en una ventana o frame. (Esatas ubicaciones se miden en pixeles, no en unidad de caracteres como lo hace .pack()). La referencia de coordenadas es la siguiente: \n",
    "- x = 0, y = 0 ---> origen de coordenadas ubicacion de la parte superior izquierda\n",
    "- x = X_a, y = Y_a ---> X_a : Rango de izquierda a derecha de la ventana\n",
    "                   ---> Y_a : Rango de arriba hacia abajo de la ventan \n",
    "\n"
   ]
  },
  {
   "cell_type": "code",
   "execution_count": 22,
   "metadata": {},
   "outputs": [],
   "source": [
    "import tkinter as tk\n",
    "\n",
    "window = tk.Tk()\n",
    "\n",
    "frame = tk.Frame(master=window, width=150, height=150)\n",
    "frame.pack()\n",
    "\n",
    "label1 = tk.Label(master=frame, text=\"I'm at (0, 0)\", bg=\"red\")\n",
    "label1.place(x=0, y=0)\n",
    "\n",
    "label2 = tk.Label(master=frame, text=\"I'm at (75, 75)\", bg=\"yellow\")\n",
    "label2.place(x=75, y=110)\n",
    "\n",
    "window.mainloop()"
   ]
  },
  {
   "cell_type": "markdown",
   "metadata": {},
   "source": [
    "No es precisamente recomendable usar .place() ya que sus especificaciones no se adaptan al cambio de tamaño de la ventana, ademas que puede funcionar de forma diferente en plataformas diferentes, y no es lo que se busca al momento de crear un GUI, ya que queremos que sin importar la platafarma nuestro diseño se mantenga igual. "
   ]
  },
  {
   "cell_type": "markdown",
   "metadata": {},
   "source": [
    ".grid()\n",
    "---\n",
    "Este administrado de geometrias funciona diviendo la ventana en filas y columnas (argumentos 'row' y 'column' respectivamente)\n",
    "Si bien el .grid() se aplica al frame, en realidad esta especificando su ubicacion dentro de la ventana"
   ]
  },
  {
   "cell_type": "code",
   "execution_count": 28,
   "metadata": {},
   "outputs": [],
   "source": [
    "import tkinter as tk\n",
    "\n",
    "window = tk.Tk()\n",
    "\n",
    "for i in range(4):\n",
    "    for j in range(5):\n",
    "        frame = tk.Frame(\n",
    "            master=window,\n",
    "            relief=tk.RAISED,\n",
    "            borderwidth=1\n",
    "        )\n",
    "        frame.grid(row=i, column=j) # Argumentos de fila y columna\n",
    "        label = tk.Label(master=frame, text=f\"Row {i}\\nColumn {j}\")\n",
    "        label.pack(expand=True)\n",
    "\n",
    "window.mainloop()"
   ]
  },
  {
   "cell_type": "markdown",
   "metadata": {},
   "source": [
    "Para agregar relleno externo usamos los argumentos:\n",
    "- padx: agrega relleno en la dirección horizontal.\n",
    "- pady: agrega relleno en la dirección vertical.\n",
    "\n",
    "Este relleno se mide en pixeles"
   ]
  },
  {
   "cell_type": "code",
   "execution_count": 34,
   "metadata": {},
   "outputs": [],
   "source": [
    "import tkinter as tk\n",
    "\n",
    "window = tk.Tk()\n",
    "\n",
    "for i in range(3):\n",
    "    for j in range(3):\n",
    "        frame = tk.Frame(\n",
    "            master=window,\n",
    "            relief=tk.RAISED,\n",
    "            borderwidth=1\n",
    "        )\n",
    "        frame.grid(row=i, column=j, padx=5, pady=5)\n",
    "        label = tk.Label(master=frame, text=f\"Row {i}\\nColumn {j}\")\n",
    "        label.pack()\n",
    "\n",
    "window.mainloop()"
   ]
  },
  {
   "cell_type": "markdown",
   "metadata": {},
   "source": [
    ".pack() también tiene padx y pady parámetros."
   ]
  },
  {
   "cell_type": "code",
   "execution_count": 31,
   "metadata": {},
   "outputs": [],
   "source": [
    "import tkinter as tk\n",
    "\n",
    "window = tk.Tk()\n",
    "\n",
    "for i in range(3):\n",
    "    for j in range(3):\n",
    "        frame = tk.Frame(\n",
    "            master=window,\n",
    "            relief=tk.RAISED,\n",
    "            borderwidth=1\n",
    "        )\n",
    "        frame.grid(row=i, column=j, padx=5, pady=5)\n",
    "        label = tk.Label(master=frame, text=f\"Row {i}\\nColumn {j}\")\n",
    "        label.pack(padx=5, pady=5)\n",
    "\n",
    "window.mainloop()"
   ]
  },
  {
   "cell_type": "markdown",
   "metadata": {},
   "source": [
    "Si se desea expandir la cuadricula, podremos notar que por mas que aumentemos el tamaño de nuestra ventana, la cuadricula se mantendra en su posicion sin agrandarse y para que esto no pase es necesario agregar cierta configuracion para filas y columnas.\n",
    "Al usar .columnconfigure() y .rowconfigure() en el window, puede ajustar cómo crecen las filas y columnas de la cuadrícula a medida que cambia el tamaño de la ventana.\n",
    "\n",
    "Para determinar el comportamiento de esta configuracion tenemos 3 argumentos que son importantes:\n",
    "- **index**: El índice de la columna o fila de la grilla que desea configurar o una lista de índices para configurar varias filas o columnas al mismo tiempo.\n",
    "\n",
    "- **weight**: un argumento de palabra clave llamado weight que determina cómo debe responder la columna o fila al cambio de tamaño de la ventana, en relación con las otras columnas y filas.\n",
    "\n",
    "- **minsize**: un argumento de palabra clave llamado minsizeque establece el tamaño mínimo de la altura de la fila o el ancho de la columna en píxeles."
   ]
  },
  {
   "cell_type": "markdown",
   "metadata": {},
   "source": [
    "weight está configurado 0de forma predeterminada, lo que significa que la columna o fila no se expande a medida que cambia el tamaño de la ventana. Si a cada columna o fila se le asigna un peso de 1, todas crecen al mismo ritmo. Si una columna tiene un peso de 1 y otra un peso de 2, entonces la segunda columna se expande al doble de velocidad que la primera. "
   ]
  },
  {
   "cell_type": "code",
   "execution_count": 33,
   "metadata": {},
   "outputs": [],
   "source": [
    "import tkinter as tk\n",
    "\n",
    "window = tk.Tk()\n",
    "\n",
    "for i in range(3):\n",
    "    window.columnconfigure(i, weight=1, minsize=75)\n",
    "    window.rowconfigure(i, weight=1, minsize=50)\n",
    "\n",
    "    for j in range(0, 3):\n",
    "        frame = tk.Frame(\n",
    "            master=window,\n",
    "            relief=tk.RAISED,\n",
    "            borderwidth=1\n",
    "        )\n",
    "        frame.grid(row=i, column=j, padx=5, pady=5)\n",
    "        label = tk.Label(master=frame, text=f\"Row {i}\\nColumn {j}\")\n",
    "        label.pack(padx=5, pady=5)\n",
    "\n",
    "window.mainloop()"
   ]
  },
  {
   "cell_type": "code",
   "execution_count": 36,
   "metadata": {},
   "outputs": [],
   "source": [
    "import tkinter as tk\n",
    "\n",
    "window = tk.Tk()\n",
    "window.columnconfigure(0, minsize=250)\n",
    "window.rowconfigure([0, 1], minsize=100)\n",
    "\n",
    "label1 = tk.Label(text=\"A\")\n",
    "label1.grid(row=0, column=0)\n",
    "\n",
    "label2 = tk.Label(text=\"B\")\n",
    "label2.grid(row=1, column=0)\n",
    "\n",
    "window.mainloop()"
   ]
  },
  {
   "cell_type": "code",
   "execution_count": null,
   "metadata": {},
   "outputs": [],
   "source": [
    "import tkinter as tk\n",
    "\n",
    "window = tk.Tk()\n",
    "window.columnconfigure(0, minsize=250)\n",
    "window.rowconfigure([0, 1], minsize=100)\n",
    "\n",
    "label1 = tk.Label(text=\"A\")\n",
    "label1.grid(row=0, column=0, sticky=\"n\")\n",
    "\n",
    "label2 = tk.Label(text=\"B\")\n",
    "label2.grid(row=1, column=0, sticky=\"n\")\n",
    "\n",
    "window.mainloop()"
   ]
  }
 ],
 "metadata": {
  "kernelspec": {
   "display_name": "Python 3",
   "language": "python",
   "name": "python3"
  },
  "language_info": {
   "codemirror_mode": {
    "name": "ipython",
    "version": 3
   },
   "file_extension": ".py",
   "mimetype": "text/x-python",
   "name": "python",
   "nbconvert_exporter": "python",
   "pygments_lexer": "ipython3",
   "version": "3.12.0"
  }
 },
 "nbformat": 4,
 "nbformat_minor": 2
}
