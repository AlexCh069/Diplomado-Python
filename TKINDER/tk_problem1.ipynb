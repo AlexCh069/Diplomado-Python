{
 "cells": [
  {
   "cell_type": "code",
   "execution_count": 4,
   "metadata": {},
   "outputs": [],
   "source": [
    "# PROBLEMA - RESOLUCION\n",
    "\n",
    "import tkinter as tk\n",
    "\n",
    "window = tk.Tk()\n",
    "\n",
    "frm_1 = tk.Frame(window)\n",
    "frm_1.pack()\n",
    "lbl_1 = tk.Label(frm_1,text = \"Fist Name:\")\n",
    "lbl_1.grid(row=0, column = 0)\n",
    "ent_1 = tk.Entry(frm_1,border=1,width=60)\n",
    "ent_1.grid(row=0, column = 1)\n",
    "\n",
    "\n",
    "\n",
    "frm_2 = tk.Frame(window)\n",
    "frm_2.pack()\n",
    "\n",
    "\n",
    "\n",
    "\n",
    "\n",
    "window.mainloop()\n",
    "\n"
   ]
  },
  {
   "cell_type": "code",
   "execution_count": 40,
   "metadata": {},
   "outputs": [],
   "source": [
    "window = tk.Tk()\n",
    "window.title(\"Address Entry Form\")\n",
    "\n",
    "\n",
    "def obtener_textos():\n",
    "    for i in range(0,8):\n",
    "        texto = entrys[i].get()\n",
    "        print(f'{lbls[i]} {texto}')\n",
    "\n",
    "def clear_textos():         # POR MEJORAR\n",
    "    delet_text = entrys[i].delete(0,tk.END)\n",
    "    delet_text = entrys[i].get() \n",
    "    print(f'{lbls[i]} {delet_text}')\n",
    "\n",
    "def close_window():\n",
    "    window.destroy()\n",
    "\n",
    "lbls = ['Fist Name:',\n",
    "        'Last Name:',\n",
    "        'Address Line 1:',\n",
    "        'Address Line 2:',\n",
    "        'City:',\n",
    "        'State/Province:',\n",
    "        'Postal Code:',\n",
    "        'Country:'          ]\n",
    "entrys = []\n",
    "\n",
    "frame_text = tk.Frame(window, relief=tk.SUNKEN,border=2)\n",
    "frame_text.pack()\n",
    "\n",
    "for i in range(0,8):\n",
    "    lbl = tk.Label(frame_text, text = lbls[i])\n",
    "    lbl.grid(row=i, column=0,sticky='e')\n",
    "\n",
    "    entry = tk.Entry(frame_text, border=1, width=60)\n",
    "    entry.grid(row=i, column=1)\n",
    "\n",
    "    entrys.append(entry)\n",
    "\n",
    "frame_buttons = tk.Frame(window)\n",
    "frame_buttons.pack(fill=tk.X, ipadx=5, ipady=5)\n",
    "\n",
    "button_clear = tk.Button(frame_buttons,text=\"Clear\")\n",
    "button_submit = tk.Button(frame_buttons,text=\"Submit\",command= obtener_textos)\n",
    "button_close = tk.Button(frame_buttons,text=\"Exit\",command= close_window)\n",
    "\n",
    "button_submit.pack(side=tk.RIGHT)\n",
    "button_clear.pack(side=tk.RIGHT)\n",
    "button_close.pack(side=tk.RIGHT)\n",
    "\n",
    "\n",
    "\n",
    "window.mainloop()"
   ]
  },
  {
   "cell_type": "code",
   "execution_count": null,
   "metadata": {},
   "outputs": [],
   "source": [
    "def obtener_texto():\n",
    "    texto = entry.get()  # Obtiene el texto ingresado en el Entry\n",
    "    print(\"Texto ingresado:\", texto)\n",
    "    return texto"
   ]
  },
  {
   "cell_type": "code",
   "execution_count": 35,
   "metadata": {},
   "outputs": [
    {
     "data": {
      "text/plain": [
       "[<tkinter.Entry object .!frame.!entry>,\n",
       " <tkinter.Entry object .!frame.!entry2>,\n",
       " <tkinter.Entry object .!frame.!entry3>,\n",
       " <tkinter.Entry object .!frame.!entry4>,\n",
       " <tkinter.Entry object .!frame.!entry5>,\n",
       " <tkinter.Entry object .!frame.!entry6>,\n",
       " <tkinter.Entry object .!frame.!entry7>,\n",
       " <tkinter.Entry object .!frame.!entry8>]"
      ]
     },
     "execution_count": 35,
     "metadata": {},
     "output_type": "execute_result"
    }
   ],
   "source": [
    "entrys"
   ]
  }
 ],
 "metadata": {
  "kernelspec": {
   "display_name": "Python 3",
   "language": "python",
   "name": "python3"
  },
  "language_info": {
   "codemirror_mode": {
    "name": "ipython",
    "version": 3
   },
   "file_extension": ".py",
   "mimetype": "text/x-python",
   "name": "python",
   "nbconvert_exporter": "python",
   "pygments_lexer": "ipython3",
   "version": "3.12.0"
  }
 },
 "nbformat": 4,
 "nbformat_minor": 2
}
