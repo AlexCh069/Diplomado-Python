{
 "cells": [
  {
   "cell_type": "markdown",
   "metadata": {},
   "source": [
    "# USO DE EVENTOS Y CONTROLADORES"
   ]
  },
  {
   "cell_type": "markdown",
   "metadata": {},
   "source": [
    "Al momento de usar el metodo window.mainloop() se iniciara un bucle de eventos, durante este bucle se verificara de forma recurrente la ocurrencia de eventos, detectando si ocurrio alguno y en consecuencia ejecutando algun codigo de respuesta. Gracias a esto no es necesario que nosotros creemos un verificador de eventos. (evento: cualquier accion que courre durante el bucle)\n",
    "\n",
    "mainloop() se encarga de dos partes del ciclo:\n",
    "- Lista de eventos: Lista de eventos que han ocurrido\n",
    "- Controlador de eventos: Codigo que se ejecutara cada que se detecta un evento"
   ]
  },
  {
   "cell_type": "markdown",
   "metadata": {},
   "source": [
    "Sin mainloop() tendriamos que estructurar nuestro condigo de una forma parecida a la siguiente:"
   ]
  },
  {
   "cell_type": "code",
   "execution_count": null,
   "metadata": {},
   "outputs": [],
   "source": [
    "events = []     # Lista de eventos\n",
    "\n",
    "# Create an event handler\n",
    "def handle_keypress(event): # Contrlador de eventos\n",
    "    \"\"\"Print the character associated to the key pressed\"\"\"\n",
    "    print(event.char)\n",
    "\n",
    "while True:\n",
    "    if events == []:\n",
    "        continue\n",
    "\n",
    "    event = events[0]\n",
    "\n",
    "    # If event is a keypress event object \n",
    "    if event.type == \"keypress\":\n",
    "        # Call the keypress event handler\n",
    "        handle_keypress(event)"
   ]
  },
  {
   "cell_type": "markdown",
   "metadata": {},
   "source": [
    "En el codigo anterior era necesario crear un almacen para eventos, los cuales una vez detectados deberia ejecutar la funcion del controlador de eventos 'handle_keypress', mainloop() nos ahorra todo ese trabajo."
   ]
  },
  {
   "cell_type": "markdown",
   "metadata": {},
   "source": [
    ".bind()\n",
    "----\n",
    "Para llamar al controlador de eventos cada vez que ocurre un evento usaremos .bind(). Esta funcion necesita como minimo dos parametros: \n",
    "- `\"<event_name>\"`: Nombre del evento de tkinder (cadena de caracteres)\n",
    "- `<name_event_controller>`: Funcion que servira como controlador de eventos \n",
    "\n",
    "Tkinder cuenta con una lista de eventos que podran ser invocados, esta lista puede variar de acuerdo a la version de tkinder que estemos usando. aqui algunso de los eventos: \n",
    "\n",
    "- `<Button-1>`: Ocurre cuando se hace clic con el botón izquierdo del ratón.\n",
    "- `<Button-2>`: Ocurre cuando se hace clic con el botón central del ratón.\n",
    "- `<Button-3>`: Ocurre cuando se hace clic con el botón derecho del ratón.\n",
    "- `<Motion>`: Se activa cuando el ratón se mueve dentro del widget.\n",
    "- `<Enter>`: Ocurre cuando el cursor del ratón entra en el área del widget.\n",
    "- `<Leave>`: Ocurre cuando el cursor del ratón sale del área del widget.\n",
    "- `<Key>`: Se activa cuando se presiona una tecla del teclado.\n",
    "- `<Return>`: Ocurre cuando se presiona la tecla \"Enter\".\n",
    "- `<FocusIn>`: Ocurre cuando el widget obtiene el foco.\n",
    "- `<FocusOut>`: Ocurre cuando el widget pierde el foco.\n",
    "- `<Configure>`: Ocurre cuando cambia el tamaño del widget.\n",
    "- `<Destroy>`: Se activa cuando el widget se destruye.\n",
    "- `<KeyPress>` y `<KeyRelease>`: Eventos específicos para la presión o liberación de una tecla.\n",
    "- `<Map>` y `<Unmap>`: Ocurren cuando el widget se muestra u oculta.\n",
    "- `<MouseWheel>`: Para ruedas de desplazamiento del ratón.\n",
    "- `<Double-Button-1>`: Ocurre cuando se hace doble clic con el botón izquierdo del ratón.\n",
    "- `<Triple-Button-1>`: Ocurre cuando se hace triple clic con el botón izquierdo del ratón.\n",
    "- `<B1-Motion>`, `<B2-Motion>`, `<B3-Motion>`: Eventos de movimiento del ratón mientras se mantiene presionado un botón específico.\n",
    "- `<Visibility>`: Ocurre cuando el widget se vuelve visible o invisible.\n"
   ]
  },
  {
   "cell_type": "markdown",
   "metadata": {},
   "source": [
    "En el siguiente ejemplo tenemos dos .bind(...) que se encargan de controlar eventos diferentes, el primero esta referido para la ventana en general, cada que se presiona una tecla enviara el caracter por consola para que sea mostrado, el segundo esta referido al frame creado, cada que el mouse se mueva dentro del frame se imprimira la letra \"a\"."
   ]
  },
  {
   "cell_type": "code",
   "execution_count": 30,
   "metadata": {},
   "outputs": [
    {
     "name": "stdout",
     "output_type": "stream",
     "text": [
      "a\n",
      "a\n",
      "a\n",
      "a\n",
      "a\n",
      "a\n",
      "a\n",
      "a\n",
      "a\n",
      "a\n",
      "a\n",
      "a\n",
      "a\n",
      "a\n",
      "a\n",
      "a\n",
      "a\n",
      "a\n",
      "a\n",
      "a\n",
      "a\n"
     ]
    }
   ],
   "source": [
    "import tkinter as tk\n",
    "\n",
    "window = tk.Tk()\n",
    "\n",
    "def handle_keypress(event): # Event controller\n",
    "    \"\"\"Print the character associated to the key pressed\"\"\"\n",
    "    print(event.char)\n",
    "\n",
    "def motion_mouse(event):     # Event controller \n",
    "    print('a')\n",
    "\n",
    "# Bind keypress event to handle_keypress()\n",
    "window.bind(\"<Key>\", handle_keypress)\n",
    "\n",
    "\n",
    "frm = tk.Frame(window, bd= 3, relief= tk.SUNKEN)\n",
    "lbl = tk.Label(frm, text=\"Relieves\")\n",
    "frm.bind(\"<Motion>\", motion_mouse)\n",
    "frm.pack()\n",
    "lbl.pack()\n",
    "\n",
    "window.mainloop()"
   ]
  },
  {
   "cell_type": "markdown",
   "metadata": {},
   "source": [
    "Como podemos ver, el controlador de eventos funciona para widget's especificos, esto incluye frames, ya que podemos especificar ciertos eventos para estos. \n"
   ]
  },
  {
   "cell_type": "markdown",
   "metadata": {},
   "source": [
    "Aqui otro ejemplo simple "
   ]
  },
  {
   "cell_type": "code",
   "execution_count": 15,
   "metadata": {},
   "outputs": [
    {
     "name": "stdout",
     "output_type": "stream",
     "text": [
      "The button was clicked!\n",
      "The button was clicked!\n",
      "The button was clicked!\n",
      "The button was clicked!\n",
      "The button was clicked!\n",
      "The button was clicked!\n"
     ]
    }
   ],
   "source": [
    "window = tk.Tk()\n",
    "def handle_click(event):    # Event controller\n",
    "    print(\"The button was clicked!\")\n",
    "\n",
    "button = tk.Button(window,text=\"Click me!\")\n",
    "\n",
    "button.bind(\"<Button-1>\", handle_click)\n",
    "button.pack()\n",
    "\n",
    "window.mainloop()"
   ]
  },
  {
   "cell_type": "markdown",
   "metadata": {},
   "source": [
    "command (parametro de BUTTON)\n",
    "---\n",
    "Basicamente se encarga de asignarle una funcion a un boton, cada vez que este es presionado se ejecuta la funcion referida en este parametro. En anteriores ejemplos hicimos uso de este parametro."
   ]
  },
  {
   "cell_type": "code",
   "execution_count": 29,
   "metadata": {},
   "outputs": [],
   "source": [
    "import tkinter as tk\n",
    "\n",
    "\n",
    "window = tk.Tk()\n",
    "\n",
    "\n",
    "def increase():\n",
    "    value = int(lbl_value[\"text\"])      # Obtenemos el caracter del lbl y lo convertimos a int\n",
    "    lbl_value[\"text\"] = f\"{value + 1}\"  # Actualizamos el caracter del lbl\n",
    "\n",
    "def decrease():\n",
    "    value = int(lbl_value[\"text\"])\n",
    "    lbl_value[\"text\"] = f\"{value - 1}\"\n",
    "\n",
    "# NOTA: el valor del label se puede extraer usando <name_label[\"text\"]> y se puede actualizar el \n",
    "#       valor de esta invocandola y modificando su valor.\n",
    "\n",
    "\n",
    "window.rowconfigure(0, minsize=50, weight=1)\n",
    "window.columnconfigure([0, 1, 2], minsize=50, weight=1)\n",
    "\n",
    "btn_decrease = tk.Button(master=window, text=\"-\",command=decrease)\n",
    "btn_decrease.grid(row=0, column=0, sticky=\"nsew\")\n",
    "\n",
    "lbl_value = tk.Label(master=window, text='0')\n",
    "lbl_value.grid(row=0, column=1)\n",
    "\n",
    "btn_increase = tk.Button(master=window, text=\"+\",command=increase)\n",
    "btn_increase.grid(row=0, column=2, sticky=\"nsew\")\n",
    "\n",
    "window.mainloop()"
   ]
  },
  {
   "cell_type": "code",
   "execution_count": 35,
   "metadata": {},
   "outputs": [],
   "source": [
    "# DADO \n",
    "\n",
    "import tkinter as tk\n",
    "import random\n",
    "\n",
    "window = tk.Tk()\n",
    "\n",
    "def num_aleatorio():\n",
    "    lbl_num[\"text\"] = f'{random.randint(1,6)}'\n",
    "\n",
    "button_roll = tk.Button(window, text= \"Roll\", command= num_aleatorio)\n",
    "button_roll.pack()\n",
    "\n",
    "lbl_num = tk.Label(window, text = \"1\")\n",
    "lbl_num.pack()\n",
    "\n",
    "window.mainloop()"
   ]
  },
  {
   "cell_type": "code",
   "execution_count": 2,
   "metadata": {},
   "outputs": [],
   "source": [
    "from tkinter import *\n",
    "from tkinter import ttk\n",
    "\n",
    "def calculate(*args):\n",
    "    try:\n",
    "        value = float(feet.get())\n",
    "        meters.set(int(0.3048 * value * 10000.0 + 0.5)/10000.0)\n",
    "    except ValueError:\n",
    "        pass\n",
    "\n",
    "root = Tk()\n",
    "root.title(\"Feet to Meters\")\n",
    "\n",
    "mainframe = ttk.Frame(root, padding=\"3 3 12 12\")\n",
    "mainframe.grid(column=0, row=0, sticky=(N, W, E, S))\n",
    "root.columnconfigure(0, weight=1)\n",
    "root.rowconfigure(0, weight=1)\n",
    "\n",
    "feet = StringVar()\n",
    "feet_entry = ttk.Entry(mainframe, width=7, textvariable=feet)\n",
    "feet_entry.grid(column=2, row=1, sticky=(W, E))\n",
    "\n",
    "meters = StringVar()\n",
    "ttk.Label(mainframe, textvariable=meters).grid(column=2, row=2, sticky=(W, E))\n",
    "\n",
    "ttk.Button(mainframe, text=\"Calculate\", command=calculate).grid(column=3, row=3, sticky=W)\n",
    "\n",
    "ttk.Label(mainframe, text=\"feet\").grid(column=3, row=1, sticky=W)\n",
    "ttk.Label(mainframe, text=\"is equivalent to\").grid(column=1, row=2, sticky=E)\n",
    "ttk.Label(mainframe, text=\"meters\").grid(column=3, row=2, sticky=W)\n",
    "\n",
    "for child in mainframe.winfo_children(): \n",
    "    child.grid_configure(padx=5, pady=5)\n",
    "\n",
    "feet_entry.focus()\n",
    "root.bind(\"<Return>\", calculate)\n",
    "\n",
    "root.mainloop()"
   ]
  }
 ],
 "metadata": {
  "kernelspec": {
   "display_name": "Python 3",
   "language": "python",
   "name": "python3"
  },
  "language_info": {
   "codemirror_mode": {
    "name": "ipython",
    "version": 3
   },
   "file_extension": ".py",
   "mimetype": "text/x-python",
   "name": "python",
   "nbconvert_exporter": "python",
   "pygments_lexer": "ipython3",
   "version": "3.12.0"
  }
 },
 "nbformat": 4,
 "nbformat_minor": 2
}
