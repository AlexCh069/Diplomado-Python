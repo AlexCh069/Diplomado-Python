{
 "cells": [
  {
   "cell_type": "code",
   "execution_count": 8,
   "metadata": {},
   "outputs": [],
   "source": [
    "# Datos simulados \n",
    "import random\n",
    "import string\n",
    "\n",
    "# Lista de nombres simulados\n",
    "nombres = [\"Juan\", \"María\", \"Pedro\", \"Luis\", \"Ana\", \"Carlos\", \"Sofía\", \"Marta\", \"Jorge\", \"Elena\",\n",
    "           \"Diego\", \"Laura\", \"Pablo\", \"Carmen\", \"Manuel\", \"Lucía\", \"Miguel\", \"Isabel\", \"Raúl\", \"Teresa\"]\n",
    "\n",
    "# Lista de instituciones simuladas\n",
    "instituciones = [\"Universidad X\", \"Colegio Y\", \"Instituto Z\", \"Centro Educativo A\", \"Escuela B\",\n",
    "                 \"Facultad C\", \"Academia D\", \"Centro de Estudios E\", \"Institución F\", \"Escuela Secundaria G\"]\n",
    "\n",
    "# Función para generar un nombre de usuario aleatorio\n",
    "def generar_usuario(nombre):\n",
    "    return nombre.lower() + str(random.randint(10, 99))     # Mezcla las ultimas letras del nombre con numeros aleatorios\n",
    "\n",
    "# Función para generar una contraseña aleatoria\n",
    "def generar_contraseña():\n",
    "    caracteres = string.ascii_letters + string.digits\n",
    "    return ''.join(random.choice(caracteres) for _ in range(7))    # Concatena progresivamente simbolos generados en el string \"caracteres\"\n",
    "\n",
    "users = []\n",
    "keys_users = []\n",
    "\n",
    "for i in range(0,19):\n",
    "    name = nombres[i] \n",
    "    users.append(generar_usuario(name))\n",
    "    keys_users.append(generar_contraseña())"
   ]
  },
  {
   "cell_type": "code",
   "execution_count": 12,
   "metadata": {},
   "outputs": [
    {
     "name": "stdout",
     "output_type": "stream",
     "text": [
      "(1, 'pedro', 'UNAC', 'ped20', 'dofr')\n",
      "(2, 'pedro', 'UNAC', 'ped20', 'dofr')\n",
      "(21, 'Juan', 'Universidad X', 'juan27', 'tY3rpRx')\n",
      "(22, 'María', 'Colegio Y', 'maría78', '2RGtLpX')\n",
      "(23, 'Pedro', 'Instituto Z', 'pedro83', 'rtIxQDc')\n",
      "(24, 'Luis', 'Centro Educativo A', 'luis95', 'srPMVSA')\n",
      "(25, 'Ana', 'Escuela B', 'ana62', 'uPnLb6F')\n",
      "(26, 'Carlos', 'Facultad C', 'carlos73', '85jOLkd')\n",
      "(27, 'Sofía', 'Academia D', 'sofía34', 'Y6I6spl')\n",
      "(28, 'Marta', 'Centro de Estudios E', 'marta73', 'VZfgLgh')\n",
      "(29, 'Jorge', 'Institución F', 'jorge13', '1gZgRfx')\n"
     ]
    }
   ],
   "source": [
    "# Verificacio de que la base de datos tenga datos xd\n",
    "import mysql.connector\n",
    "\n",
    "conexion1=mysql.connector.connect(host=\"localhost\", \n",
    "                                  user=\"root\", \n",
    "                                  passwd=\"\", \n",
    "                                  database = \"proyect\")\n",
    "cursor1=conexion1.cursor()\n",
    "cursor1.execute(\"select * from usuarios\")\n",
    "\n",
    "for i in cursor1:  \n",
    "    print(i)\n",
    "\n",
    "conexion1.close()\n"
   ]
  },
  {
   "cell_type": "code",
   "execution_count": 11,
   "metadata": {},
   "outputs": [
    {
     "name": "stdout",
     "output_type": "stream",
     "text": [
      "Juan Universidad X juan27 tY3rpRx\n",
      "María Colegio Y maría78 2RGtLpX\n",
      "Pedro Instituto Z pedro83 rtIxQDc\n",
      "Luis Centro Educativo A luis95 srPMVSA\n",
      "Ana Escuela B ana62 uPnLb6F\n",
      "Carlos Facultad C carlos73 85jOLkd\n",
      "Sofía Academia D sofía34 Y6I6spl\n",
      "Marta Centro de Estudios E marta73 VZfgLgh\n",
      "Jorge Institución F jorge13 1gZgRfx\n"
     ]
    }
   ],
   "source": [
    "import mysql.connector\n",
    "\n",
    "conexion1=mysql.connector.connect(host=\"localhost\", \n",
    "                                  user=\"root\", \n",
    "                                  passwd=\"\", \n",
    "                                  database = \"proyect\")\n",
    "cursor1=conexion1.cursor() \n",
    "\n",
    "# Agregamos 9 datos de usuarios a la BD\n",
    "for i in range(9):\n",
    "    nombre = nombres[i]\n",
    "    institucion = instituciones[i]\n",
    "    user = users[i]\n",
    "    key_user = keys_users[i]\n",
    "    print(nombre, institucion, user, key_user)\n",
    "    cursor1.execute(f\"insert into usuarios (nombre, institucion, user, key_user) values ('{nombre}', '{institucion}', '{user}', '{key_user}')\")\n",
    "    \n",
    "conexion1.commit()\n",
    "\n"
   ]
  }
 ],
 "metadata": {
  "kernelspec": {
   "display_name": "Python 3",
   "language": "python",
   "name": "python3"
  },
  "language_info": {
   "codemirror_mode": {
    "name": "ipython",
    "version": 3
   },
   "file_extension": ".py",
   "mimetype": "text/x-python",
   "name": "python",
   "nbconvert_exporter": "python",
   "pygments_lexer": "ipython3",
   "version": "3.12.0"
  }
 },
 "nbformat": 4,
 "nbformat_minor": 2
}
