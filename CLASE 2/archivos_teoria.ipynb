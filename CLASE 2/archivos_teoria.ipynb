{
 "cells": [
  {
   "cell_type": "markdown",
   "metadata": {},
   "source": [
    "### LECTURA DE ARCHIVOS"
   ]
  },
  {
   "cell_type": "markdown",
   "metadata": {},
   "source": [
    "la funcion open cuenta con un parametro especifico para el manejo de archivos de texto:\n",
    "1. Nombre del archivo\n",
    "\n",
    "2. Modo\n",
    "- 'r' : read (lectura)\n",
    "- 'w' : write (escritura)\n",
    "- 'a' : modo anexar (similar a un append)\n",
    "- 'rb', 'wb', 'ab' : Similar a los anteriores pero para archivos binarios\n",
    "\n",
    "3. Codificacion (opcional): ejemplos: 'uft-8', 'latin-1', etc...\n",
    "4. newline (opcional): Controla cómo se manejan los saltos de línea. Puedes usar '\\n', '\\r', '\\r\\n', o None"
   ]
  },
  {
   "cell_type": "markdown",
   "metadata": {},
   "source": [
    "notacion: \n",
    "```python\n",
    "    with open(file.path,modo_de_lectura, encoding) as var_archivo:\n",
    "        # lo que se hara con los datos del archivo \n",
    "```\n"
   ]
  },
  {
   "cell_type": "markdown",
   "metadata": {},
   "source": [
    "#### Modo lectura"
   ]
  },
  {
   "cell_type": "code",
   "execution_count": 1,
   "metadata": {},
   "outputs": [
    {
     "name": "stdout",
     "output_type": "stream",
     "text": [
      " día de \n",
      " las velitas\n",
      " es rumba y fiesta \n",
      " en colombia \n"
     ]
    }
   ],
   "source": [
    "# Abre un archivo en modo lectura ('r')\n",
    "with open('diavelitas.txt', 'r', encoding='utf-8') as archivo:\n",
    "    contenido = archivo.read()\n",
    "    print(contenido)\n"
   ]
  },
  {
   "cell_type": "code",
   "execution_count": 2,
   "metadata": {},
   "outputs": [
    {
     "name": "stdout",
     "output_type": "stream",
     "text": [
      "[' día de \\n', ' las velitas\\n', ' es rumba y fiesta \\n', ' en colombia ']\n"
     ]
    }
   ],
   "source": [
    "with open('diavelitas.txt','r',encoding='utf-8') as archivo:\n",
    "    print (archivo.readlines()) # readlines() devuelve las lineas de texto en una lista\n",
    "\n",
    "\n",
    "#nota: tmbn reconoce el salto de linea como un caracter de la linea de texto"
   ]
  },
  {
   "cell_type": "code",
   "execution_count": 3,
   "metadata": {},
   "outputs": [
    {
     "name": "stdout",
     "output_type": "stream",
     "text": [
      " día de \n",
      "\n",
      " las velitas\n",
      "\n",
      " es rumba y fiesta \n",
      "\n",
      " en colombia \n"
     ]
    }
   ],
   "source": [
    "with open('diavelitas.txt','r', encoding='utf-8') as archivo:\n",
    "    for linea in archivo:\n",
    "        print (linea)\n"
   ]
  },
  {
   "cell_type": "markdown",
   "metadata": {},
   "source": [
    "#### Modo escritura\n",
    "Util cuando se quiere crear el archivo desde cero, ya que si se vuelve a invocar un archivo existente y con contenido, este contenido sera reemplazado en su totalidad por el nuevo contenido que intentemos darle."
   ]
  },
  {
   "cell_type": "code",
   "execution_count": 10,
   "metadata": {},
   "outputs": [
    {
     "name": "stdout",
     "output_type": "stream",
     "text": [
      "Archivo creado\n"
     ]
    }
   ],
   "source": [
    "# Archivo si crear\n",
    "with open('nuevo.txt', 'w') as archivo:\n",
    "    for i in range(0,10):\n",
    "        archivo.write(f'Fila numero: {i}\\n')\n",
    "    print('Archivo creado')"
   ]
  },
  {
   "cell_type": "code",
   "execution_count": 5,
   "metadata": {},
   "outputs": [],
   "source": [
    "# Archivo ya existente \n",
    "with open('nuevo.txt', 'w') as archivo:\n",
    "    archivo.write('Nuevo')  # elimino todo lo anterior por esto (posible perdida de informacion)\n",
    "\n",
    "# NOTA: COMPROBAR EL CONTENIDO DEL ARCHIVO CON LA EJECUCION DEL CODIGO ANTERIOR Y ESTE "
   ]
  },
  {
   "cell_type": "markdown",
   "metadata": {},
   "source": [
    "#### Modo append -  mode: 'a'"
   ]
  },
  {
   "cell_type": "code",
   "execution_count": 11,
   "metadata": {},
   "outputs": [],
   "source": [
    "with open('nuevo.txt','a') as archivo:\n",
    "    for i in 'Damocles':\n",
    "        archivo.write(f'Letra de Damocles: {i}\\n')"
   ]
  }
 ],
 "metadata": {
  "kernelspec": {
   "display_name": "Python 3",
   "language": "python",
   "name": "python3"
  },
  "language_info": {
   "codemirror_mode": {
    "name": "ipython",
    "version": 3
   },
   "file_extension": ".py",
   "mimetype": "text/x-python",
   "name": "python",
   "nbconvert_exporter": "python",
   "pygments_lexer": "ipython3",
   "version": "3.12.0"
  }
 },
 "nbformat": 4,
 "nbformat_minor": 2
}
