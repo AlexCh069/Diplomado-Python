{
 "cells": [
  {
   "cell_type": "markdown",
   "metadata": {},
   "source": [
    "## Clases y objetos en Python"
   ]
  },
  {
   "cell_type": "markdown",
   "metadata": {},
   "source": [
    "En programación existe un paradigma denominado Programación Orientada a Objetos, que basa su funcionamiento en \"objetos\" que poseen atributos y métodos que los transforman.\n",
    "\n",
    "Cada objeto es creado bajo cierta estructura o molde y a dicho molde se le denomina clase. Una clase es una combinación específica de atributos y métodos que puede considerarse un tipo de dato. Los atributos son propiedades o características de los objetos mientras que los métodos son funciones que los transforman.\n",
    "\n",
    "Hasta ahora, todas las variables que se han creado han sido objetos que pertenecian a determinada clase. En las primeras sesiones se crearon objetos pertenecientes a las clases \"int\", \"str\" y \"list\", además al importar bibliotecas se añadieron nuevas clases como \"datetime\" o \"ndarray\". Cada objeto creado tenía determinadas propiedades (atributos) y funciones (métodos) que los modificaban.   \n",
    "\n",
    "A continuación observaremos a detalle la clase \"datetime\":"
   ]
  },
  {
   "cell_type": "code",
   "execution_count": 16,
   "metadata": {},
   "outputs": [
    {
     "name": "stdout",
     "output_type": "stream",
     "text": [
      "Requirement already satisfied: pip in c:\\users\\ares\\appdata\\local\\programs\\python\\python312\\lib\\site-packages (23.2.1)\n",
      "Collecting pip\n",
      "  Obtaining dependency information for pip from https://files.pythonhosted.org/packages/47/6a/453160888fab7c6a432a6e25f8afe6256d0d9f2cbd25971021da6491d899/pip-23.3.1-py3-none-any.whl.metadata\n",
      "  Downloading pip-23.3.1-py3-none-any.whl.metadata (3.5 kB)\n",
      "Downloading pip-23.3.1-py3-none-any.whl (2.1 MB)\n",
      "   ---------------------------------------- 0.0/2.1 MB ? eta -:--:--\n",
      "   ---------------------------------------- 0.0/2.1 MB ? eta -:--:--\n",
      "   - -------------------------------------- 0.1/2.1 MB 975.2 kB/s eta 0:00:03\n",
      "   ------- -------------------------------- 0.4/2.1 MB 3.5 MB/s eta 0:00:01\n",
      "   ------------- -------------------------- 0.7/2.1 MB 4.5 MB/s eta 0:00:01\n",
      "   ----------------- ---------------------- 0.9/2.1 MB 4.6 MB/s eta 0:00:01\n",
      "   -------------------------- ------------- 1.4/2.1 MB 5.5 MB/s eta 0:00:01\n",
      "   ---------------------------- ----------- 1.5/2.1 MB 5.0 MB/s eta 0:00:01\n",
      "   --------------------------------- ------ 1.8/2.1 MB 5.1 MB/s eta 0:00:01\n",
      "   ---------------------------------------  2.1/2.1 MB 5.3 MB/s eta 0:00:01\n",
      "   ---------------------------------------- 2.1/2.1 MB 5.2 MB/s eta 0:00:00\n",
      "Installing collected packages: pip\n",
      "  Attempting uninstall: pip\n",
      "    Found existing installation: pip 23.2.1\n",
      "    Uninstalling pip-23.2.1:\n",
      "      Successfully uninstalled pip-23.2.1\n",
      "Successfully installed pip-23.3.1\n",
      "Note: you may need to restart the kernel to use updated packages.\n"
     ]
    }
   ],
   "source": [
    "pip install --upgrade pip"
   ]
  },
  {
   "cell_type": "code",
   "execution_count": 17,
   "metadata": {},
   "outputs": [
    {
     "name": "stdout",
     "output_type": "stream",
     "text": [
      "Requirement already satisfied: tk in c:\\users\\ares\\appdata\\local\\programs\\python\\python312\\lib\\site-packages (0.1.0)\n",
      "Note: you may need to restart the kernel to use updated packages.\n"
     ]
    }
   ],
   "source": [
    "pip install tk"
   ]
  },
  {
   "cell_type": "code",
   "execution_count": 1,
   "metadata": {},
   "outputs": [],
   "source": [
    "import tkinter"
   ]
  },
  {
   "cell_type": "code",
   "execution_count": 2,
   "metadata": {},
   "outputs": [
    {
     "name": "stdout",
     "output_type": "stream",
     "text": [
      "Help on module datetime:\n",
      "\n",
      "NAME\n",
      "    datetime - Fast implementation of the datetime type.\n",
      "\n",
      "MODULE REFERENCE\n",
      "    https://docs.python.org/3.12/library/datetime.html\n",
      "\n",
      "    The following documentation is automatically generated from the Python\n",
      "    source files.  It may be incomplete, incorrect or include features that\n",
      "    are considered implementation detail and may vary between Python\n",
      "    implementations.  When in doubt, consult the module reference at the\n",
      "    location listed above.\n",
      "\n",
      "CLASSES\n",
      "    builtins.object\n",
      "        date\n",
      "            datetime\n",
      "        time\n",
      "        timedelta\n",
      "        tzinfo\n",
      "            timezone\n",
      "\n",
      "    class date(builtins.object)\n",
      "     |  date(year, month, day) --> date object\n",
      "     |\n",
      "     |  Methods defined here:\n",
      "     |\n",
      "     |  __add__(self, value, /)\n",
      "     |      Return self+value.\n",
      "     |\n",
      "     |  __eq__(self, value, /)\n",
      "     |      Return self==value.\n",
      "     |\n",
      "     |  __format__(...)\n",
      "     |      Formats self with strftime.\n",
      "     |\n",
      "     |  __ge__(self, value, /)\n",
      "     |      Return self>=value.\n",
      "     |\n",
      "     |  __getattribute__(self, name, /)\n",
      "     |      Return getattr(self, name).\n",
      "     |\n",
      "     |  __gt__(self, value, /)\n",
      "     |      Return self>value.\n",
      "     |\n",
      "     |  __hash__(self, /)\n",
      "     |      Return hash(self).\n",
      "     |\n",
      "     |  __le__(self, value, /)\n",
      "     |      Return self<=value.\n",
      "     |\n",
      "     |  __lt__(self, value, /)\n",
      "     |      Return self<value.\n",
      "     |\n",
      "     |  __ne__(self, value, /)\n",
      "     |      Return self!=value.\n",
      "     |\n",
      "     |  __radd__(self, value, /)\n",
      "     |      Return value+self.\n",
      "     |\n",
      "     |  __reduce__(...)\n",
      "     |      __reduce__() -> (cls, state)\n",
      "     |\n",
      "     |  __repr__(self, /)\n",
      "     |      Return repr(self).\n",
      "     |\n",
      "     |  __rsub__(self, value, /)\n",
      "     |      Return value-self.\n",
      "     |\n",
      "     |  __str__(self, /)\n",
      "     |      Return str(self).\n",
      "     |\n",
      "     |  __sub__(self, value, /)\n",
      "     |      Return self-value.\n",
      "     |\n",
      "     |  ctime(...)\n",
      "     |      Return ctime() style string.\n",
      "     |\n",
      "     |  isocalendar(...)\n",
      "     |      Return a named tuple containing ISO year, week number, and weekday.\n",
      "     |\n",
      "     |  isoformat(...)\n",
      "     |      Return string in ISO 8601 format, YYYY-MM-DD.\n",
      "     |\n",
      "     |  isoweekday(...)\n",
      "     |      Return the day of the week represented by the date.\n",
      "     |      Monday == 1 ... Sunday == 7\n",
      "     |\n",
      "     |  replace(...)\n",
      "     |      Return date with new specified fields.\n",
      "     |\n",
      "     |  strftime(...)\n",
      "     |      format -> strftime() style string.\n",
      "     |\n",
      "     |  timetuple(...)\n",
      "     |      Return time tuple, compatible with time.localtime().\n",
      "     |\n",
      "     |  toordinal(...)\n",
      "     |      Return proleptic Gregorian ordinal.  January 1 of year 1 is day 1.\n",
      "     |\n",
      "     |  weekday(...)\n",
      "     |      Return the day of the week represented by the date.\n",
      "     |      Monday == 0 ... Sunday == 6\n",
      "     |\n",
      "     |  ----------------------------------------------------------------------\n",
      "     |  Class methods defined here:\n",
      "     |\n",
      "     |  fromisocalendar(...) from builtins.type\n",
      "     |      int, int, int -> Construct a date from the ISO year, week number and weekday.\n",
      "     |\n",
      "     |      This is the inverse of the date.isocalendar() function\n",
      "     |\n",
      "     |  fromisoformat(...) from builtins.type\n",
      "     |      str -> Construct a date from a string in ISO 8601 format.\n",
      "     |\n",
      "     |  fromordinal(...) from builtins.type\n",
      "     |      int -> date corresponding to a proleptic Gregorian ordinal.\n",
      "     |\n",
      "     |  fromtimestamp(timestamp, /) from builtins.type\n",
      "     |      Create a date from a POSIX timestamp.\n",
      "     |\n",
      "     |      The timestamp is a number, e.g. created via time.time(), that is interpreted\n",
      "     |      as local time.\n",
      "     |\n",
      "     |  today(...) from builtins.type\n",
      "     |      Current date or datetime:  same as self.__class__.fromtimestamp(time.time()).\n",
      "     |\n",
      "     |  ----------------------------------------------------------------------\n",
      "     |  Static methods defined here:\n",
      "     |\n",
      "     |  __new__(*args, **kwargs) from builtins.type\n",
      "     |      Create and return a new object.  See help(type) for accurate signature.\n",
      "     |\n",
      "     |  ----------------------------------------------------------------------\n",
      "     |  Data descriptors defined here:\n",
      "     |\n",
      "     |  day\n",
      "     |\n",
      "     |  month\n",
      "     |\n",
      "     |  year\n",
      "     |\n",
      "     |  ----------------------------------------------------------------------\n",
      "     |  Data and other attributes defined here:\n",
      "     |\n",
      "     |  max = datetime.date(9999, 12, 31)\n",
      "     |\n",
      "     |  min = datetime.date(1, 1, 1)\n",
      "     |\n",
      "     |  resolution = datetime.timedelta(days=1)\n",
      "\n",
      "    class datetime(date)\n",
      "     |  datetime(year, month, day[, hour[, minute[, second[, microsecond[,tzinfo]]]]])\n",
      "     |\n",
      "     |  The year, month and day arguments are required. tzinfo may be None, or an\n",
      "     |  instance of a tzinfo subclass. The remaining arguments may be ints.\n",
      "     |\n",
      "     |  Method resolution order:\n",
      "     |      datetime\n",
      "     |      date\n",
      "     |      builtins.object\n",
      "     |\n",
      "     |  Methods defined here:\n",
      "     |\n",
      "     |  __add__(self, value, /)\n",
      "     |      Return self+value.\n",
      "     |\n",
      "     |  __eq__(self, value, /)\n",
      "     |      Return self==value.\n",
      "     |\n",
      "     |  __ge__(self, value, /)\n",
      "     |      Return self>=value.\n",
      "     |\n",
      "     |  __getattribute__(self, name, /)\n",
      "     |      Return getattr(self, name).\n",
      "     |\n",
      "     |  __gt__(self, value, /)\n",
      "     |      Return self>value.\n",
      "     |\n",
      "     |  __hash__(self, /)\n",
      "     |      Return hash(self).\n",
      "     |\n",
      "     |  __le__(self, value, /)\n",
      "     |      Return self<=value.\n",
      "     |\n",
      "     |  __lt__(self, value, /)\n",
      "     |      Return self<value.\n",
      "     |\n",
      "     |  __ne__(self, value, /)\n",
      "     |      Return self!=value.\n",
      "     |\n",
      "     |  __radd__(self, value, /)\n",
      "     |      Return value+self.\n",
      "     |\n",
      "     |  __reduce__(...)\n",
      "     |      __reduce__() -> (cls, state)\n",
      "     |\n",
      "     |  __reduce_ex__(...)\n",
      "     |      __reduce_ex__(proto) -> (cls, state)\n",
      "     |\n",
      "     |  __repr__(self, /)\n",
      "     |      Return repr(self).\n",
      "     |\n",
      "     |  __rsub__(self, value, /)\n",
      "     |      Return value-self.\n",
      "     |\n",
      "     |  __str__(self, /)\n",
      "     |      Return str(self).\n",
      "     |\n",
      "     |  __sub__(self, value, /)\n",
      "     |      Return self-value.\n",
      "     |\n",
      "     |  astimezone(...)\n",
      "     |      tz -> convert to local time in new timezone tz\n",
      "     |\n",
      "     |  ctime(...)\n",
      "     |      Return ctime() style string.\n",
      "     |\n",
      "     |  date(...)\n",
      "     |      Return date object with same year, month and day.\n",
      "     |\n",
      "     |  dst(...)\n",
      "     |      Return self.tzinfo.dst(self).\n",
      "     |\n",
      "     |  isoformat(...)\n",
      "     |      [sep] -> string in ISO 8601 format, YYYY-MM-DDT[HH[:MM[:SS[.mmm[uuu]]]]][+HH:MM].\n",
      "     |      sep is used to separate the year from the time, and defaults to 'T'.\n",
      "     |      The optional argument timespec specifies the number of additional terms\n",
      "     |      of the time to include. Valid options are 'auto', 'hours', 'minutes',\n",
      "     |      'seconds', 'milliseconds' and 'microseconds'.\n",
      "     |\n",
      "     |  replace(...)\n",
      "     |      Return datetime with new specified fields.\n",
      "     |\n",
      "     |  time(...)\n",
      "     |      Return time object with same time but with tzinfo=None.\n",
      "     |\n",
      "     |  timestamp(...)\n",
      "     |      Return POSIX timestamp as float.\n",
      "     |\n",
      "     |  timetuple(...)\n",
      "     |      Return time tuple, compatible with time.localtime().\n",
      "     |\n",
      "     |  timetz(...)\n",
      "     |      Return time object with same time and tzinfo.\n",
      "     |\n",
      "     |  tzname(...)\n",
      "     |      Return self.tzinfo.tzname(self).\n",
      "     |\n",
      "     |  utcoffset(...)\n",
      "     |      Return self.tzinfo.utcoffset(self).\n",
      "     |\n",
      "     |  utctimetuple(...)\n",
      "     |      Return UTC time tuple, compatible with time.localtime().\n",
      "     |\n",
      "     |  ----------------------------------------------------------------------\n",
      "     |  Class methods defined here:\n",
      "     |\n",
      "     |  combine(...) from builtins.type\n",
      "     |      date, time -> datetime with same date and time fields\n",
      "     |\n",
      "     |  fromisoformat(...) from builtins.type\n",
      "     |      string -> datetime from a string in most ISO 8601 formats\n",
      "     |\n",
      "     |  fromtimestamp(...) from builtins.type\n",
      "     |      timestamp[, tz] -> tz's local time from POSIX timestamp.\n",
      "     |\n",
      "     |  now(tz=None) from builtins.type\n",
      "     |      Returns new datetime object representing current time local to tz.\n",
      "     |\n",
      "     |        tz\n",
      "     |          Timezone object.\n",
      "     |\n",
      "     |      If no tz is specified, uses local timezone.\n",
      "     |\n",
      "     |  strptime(...) from builtins.type\n",
      "     |      string, format -> new datetime parsed from a string (like time.strptime()).\n",
      "     |\n",
      "     |  utcfromtimestamp(...) from builtins.type\n",
      "     |      Construct a naive UTC datetime from a POSIX timestamp.\n",
      "     |\n",
      "     |  utcnow(...) from builtins.type\n",
      "     |      Return a new datetime representing UTC day and time.\n",
      "     |\n",
      "     |  ----------------------------------------------------------------------\n",
      "     |  Static methods defined here:\n",
      "     |\n",
      "     |  __new__(*args, **kwargs) from builtins.type\n",
      "     |      Create and return a new object.  See help(type) for accurate signature.\n",
      "     |\n",
      "     |  ----------------------------------------------------------------------\n",
      "     |  Data descriptors defined here:\n",
      "     |\n",
      "     |  fold\n",
      "     |\n",
      "     |  hour\n",
      "     |\n",
      "     |  microsecond\n",
      "     |\n",
      "     |  minute\n",
      "     |\n",
      "     |  second\n",
      "     |\n",
      "     |  tzinfo\n",
      "     |\n",
      "     |  ----------------------------------------------------------------------\n",
      "     |  Data and other attributes defined here:\n",
      "     |\n",
      "     |  max = datetime.datetime(9999, 12, 31, 23, 59, 59, 999999)\n",
      "     |\n",
      "     |  min = datetime.datetime(1, 1, 1, 0, 0)\n",
      "     |\n",
      "     |  resolution = datetime.timedelta(microseconds=1)\n",
      "     |\n",
      "     |  ----------------------------------------------------------------------\n",
      "     |  Methods inherited from date:\n",
      "     |\n",
      "     |  __format__(...)\n",
      "     |      Formats self with strftime.\n",
      "     |\n",
      "     |  isocalendar(...)\n",
      "     |      Return a named tuple containing ISO year, week number, and weekday.\n",
      "     |\n",
      "     |  isoweekday(...)\n",
      "     |      Return the day of the week represented by the date.\n",
      "     |      Monday == 1 ... Sunday == 7\n",
      "     |\n",
      "     |  strftime(...)\n",
      "     |      format -> strftime() style string.\n",
      "     |\n",
      "     |  toordinal(...)\n",
      "     |      Return proleptic Gregorian ordinal.  January 1 of year 1 is day 1.\n",
      "     |\n",
      "     |  weekday(...)\n",
      "     |      Return the day of the week represented by the date.\n",
      "     |      Monday == 0 ... Sunday == 6\n",
      "     |\n",
      "     |  ----------------------------------------------------------------------\n",
      "     |  Class methods inherited from date:\n",
      "     |\n",
      "     |  fromisocalendar(...) from builtins.type\n",
      "     |      int, int, int -> Construct a date from the ISO year, week number and weekday.\n",
      "     |\n",
      "     |      This is the inverse of the date.isocalendar() function\n",
      "     |\n",
      "     |  fromordinal(...) from builtins.type\n",
      "     |      int -> date corresponding to a proleptic Gregorian ordinal.\n",
      "     |\n",
      "     |  today(...) from builtins.type\n",
      "     |      Current date or datetime:  same as self.__class__.fromtimestamp(time.time()).\n",
      "     |\n",
      "     |  ----------------------------------------------------------------------\n",
      "     |  Data descriptors inherited from date:\n",
      "     |\n",
      "     |  day\n",
      "     |\n",
      "     |  month\n",
      "     |\n",
      "     |  year\n",
      "\n",
      "    class time(builtins.object)\n",
      "     |  time([hour[, minute[, second[, microsecond[, tzinfo]]]]]) --> a time object\n",
      "     |\n",
      "     |  All arguments are optional. tzinfo may be None, or an instance of\n",
      "     |  a tzinfo subclass. The remaining arguments may be ints.\n",
      "     |\n",
      "     |  Methods defined here:\n",
      "     |\n",
      "     |  __eq__(self, value, /)\n",
      "     |      Return self==value.\n",
      "     |\n",
      "     |  __format__(...)\n",
      "     |      Formats self with strftime.\n",
      "     |\n",
      "     |  __ge__(self, value, /)\n",
      "     |      Return self>=value.\n",
      "     |\n",
      "     |  __getattribute__(self, name, /)\n",
      "     |      Return getattr(self, name).\n",
      "     |\n",
      "     |  __gt__(self, value, /)\n",
      "     |      Return self>value.\n",
      "     |\n",
      "     |  __hash__(self, /)\n",
      "     |      Return hash(self).\n",
      "     |\n",
      "     |  __le__(self, value, /)\n",
      "     |      Return self<=value.\n",
      "     |\n",
      "     |  __lt__(self, value, /)\n",
      "     |      Return self<value.\n",
      "     |\n",
      "     |  __ne__(self, value, /)\n",
      "     |      Return self!=value.\n",
      "     |\n",
      "     |  __reduce__(...)\n",
      "     |      __reduce__() -> (cls, state)\n",
      "     |\n",
      "     |  __reduce_ex__(...)\n",
      "     |      __reduce_ex__(proto) -> (cls, state)\n",
      "     |\n",
      "     |  __repr__(self, /)\n",
      "     |      Return repr(self).\n",
      "     |\n",
      "     |  __str__(self, /)\n",
      "     |      Return str(self).\n",
      "     |\n",
      "     |  dst(...)\n",
      "     |      Return self.tzinfo.dst(self).\n",
      "     |\n",
      "     |  isoformat(...)\n",
      "     |      Return string in ISO 8601 format, [HH[:MM[:SS[.mmm[uuu]]]]][+HH:MM].\n",
      "     |\n",
      "     |      The optional argument timespec specifies the number of additional terms\n",
      "     |      of the time to include. Valid options are 'auto', 'hours', 'minutes',\n",
      "     |      'seconds', 'milliseconds' and 'microseconds'.\n",
      "     |\n",
      "     |  replace(...)\n",
      "     |      Return time with new specified fields.\n",
      "     |\n",
      "     |  strftime(...)\n",
      "     |      format -> strftime() style string.\n",
      "     |\n",
      "     |  tzname(...)\n",
      "     |      Return self.tzinfo.tzname(self).\n",
      "     |\n",
      "     |  utcoffset(...)\n",
      "     |      Return self.tzinfo.utcoffset(self).\n",
      "     |\n",
      "     |  ----------------------------------------------------------------------\n",
      "     |  Class methods defined here:\n",
      "     |\n",
      "     |  fromisoformat(...) from builtins.type\n",
      "     |      string -> time from a string in ISO 8601 format\n",
      "     |\n",
      "     |  ----------------------------------------------------------------------\n",
      "     |  Static methods defined here:\n",
      "     |\n",
      "     |  __new__(*args, **kwargs) from builtins.type\n",
      "     |      Create and return a new object.  See help(type) for accurate signature.\n",
      "     |\n",
      "     |  ----------------------------------------------------------------------\n",
      "     |  Data descriptors defined here:\n",
      "     |\n",
      "     |  fold\n",
      "     |\n",
      "     |  hour\n",
      "     |\n",
      "     |  microsecond\n",
      "     |\n",
      "     |  minute\n",
      "     |\n",
      "     |  second\n",
      "     |\n",
      "     |  tzinfo\n",
      "     |\n",
      "     |  ----------------------------------------------------------------------\n",
      "     |  Data and other attributes defined here:\n",
      "     |\n",
      "     |  max = datetime.time(23, 59, 59, 999999)\n",
      "     |\n",
      "     |  min = datetime.time(0, 0)\n",
      "     |\n",
      "     |  resolution = datetime.timedelta(microseconds=1)\n",
      "\n",
      "    class timedelta(builtins.object)\n",
      "     |  Difference between two datetime values.\n",
      "     |\n",
      "     |  timedelta(days=0, seconds=0, microseconds=0, milliseconds=0, minutes=0, hours=0, weeks=0)\n",
      "     |\n",
      "     |  All arguments are optional and default to 0.\n",
      "     |  Arguments may be integers or floats, and may be positive or negative.\n",
      "     |\n",
      "     |  Methods defined here:\n",
      "     |\n",
      "     |  __abs__(self, /)\n",
      "     |      abs(self)\n",
      "     |\n",
      "     |  __add__(self, value, /)\n",
      "     |      Return self+value.\n",
      "     |\n",
      "     |  __bool__(self, /)\n",
      "     |      True if self else False\n",
      "     |\n",
      "     |  __divmod__(self, value, /)\n",
      "     |      Return divmod(self, value).\n",
      "     |\n",
      "     |  __eq__(self, value, /)\n",
      "     |      Return self==value.\n",
      "     |\n",
      "     |  __floordiv__(self, value, /)\n",
      "     |      Return self//value.\n",
      "     |\n",
      "     |  __ge__(self, value, /)\n",
      "     |      Return self>=value.\n",
      "     |\n",
      "     |  __getattribute__(self, name, /)\n",
      "     |      Return getattr(self, name).\n",
      "     |\n",
      "     |  __gt__(self, value, /)\n",
      "     |      Return self>value.\n",
      "     |\n",
      "     |  __hash__(self, /)\n",
      "     |      Return hash(self).\n",
      "     |\n",
      "     |  __le__(self, value, /)\n",
      "     |      Return self<=value.\n",
      "     |\n",
      "     |  __lt__(self, value, /)\n",
      "     |      Return self<value.\n",
      "     |\n",
      "     |  __mod__(self, value, /)\n",
      "     |      Return self%value.\n",
      "     |\n",
      "     |  __mul__(self, value, /)\n",
      "     |      Return self*value.\n",
      "     |\n",
      "     |  __ne__(self, value, /)\n",
      "     |      Return self!=value.\n",
      "     |\n",
      "     |  __neg__(self, /)\n",
      "     |      -self\n",
      "     |\n",
      "     |  __pos__(self, /)\n",
      "     |      +self\n",
      "     |\n",
      "     |  __radd__(self, value, /)\n",
      "     |      Return value+self.\n",
      "     |\n",
      "     |  __rdivmod__(self, value, /)\n",
      "     |      Return divmod(value, self).\n",
      "     |\n",
      "     |  __reduce__(...)\n",
      "     |      __reduce__() -> (cls, state)\n",
      "     |\n",
      "     |  __repr__(self, /)\n",
      "     |      Return repr(self).\n",
      "     |\n",
      "     |  __rfloordiv__(self, value, /)\n",
      "     |      Return value//self.\n",
      "     |\n",
      "     |  __rmod__(self, value, /)\n",
      "     |      Return value%self.\n",
      "     |\n",
      "     |  __rmul__(self, value, /)\n",
      "     |      Return value*self.\n",
      "     |\n",
      "     |  __rsub__(self, value, /)\n",
      "     |      Return value-self.\n",
      "     |\n",
      "     |  __rtruediv__(self, value, /)\n",
      "     |      Return value/self.\n",
      "     |\n",
      "     |  __str__(self, /)\n",
      "     |      Return str(self).\n",
      "     |\n",
      "     |  __sub__(self, value, /)\n",
      "     |      Return self-value.\n",
      "     |\n",
      "     |  __truediv__(self, value, /)\n",
      "     |      Return self/value.\n",
      "     |\n",
      "     |  total_seconds(...)\n",
      "     |      Total seconds in the duration.\n",
      "     |\n",
      "     |  ----------------------------------------------------------------------\n",
      "     |  Static methods defined here:\n",
      "     |\n",
      "     |  __new__(*args, **kwargs) from builtins.type\n",
      "     |      Create and return a new object.  See help(type) for accurate signature.\n",
      "     |\n",
      "     |  ----------------------------------------------------------------------\n",
      "     |  Data descriptors defined here:\n",
      "     |\n",
      "     |  days\n",
      "     |      Number of days.\n",
      "     |\n",
      "     |  microseconds\n",
      "     |      Number of microseconds (>= 0 and less than 1 second).\n",
      "     |\n",
      "     |  seconds\n",
      "     |      Number of seconds (>= 0 and less than 1 day).\n",
      "     |\n",
      "     |  ----------------------------------------------------------------------\n",
      "     |  Data and other attributes defined here:\n",
      "     |\n",
      "     |  max = datetime.timedelta(days=999999999, seconds=86399, microseconds=9...\n",
      "     |\n",
      "     |  min = datetime.timedelta(days=-999999999)\n",
      "     |\n",
      "     |  resolution = datetime.timedelta(microseconds=1)\n",
      "\n",
      "    class timezone(tzinfo)\n",
      "     |  Fixed offset from UTC implementation of tzinfo.\n",
      "     |\n",
      "     |  Method resolution order:\n",
      "     |      timezone\n",
      "     |      tzinfo\n",
      "     |      builtins.object\n",
      "     |\n",
      "     |  Methods defined here:\n",
      "     |\n",
      "     |  __eq__(self, value, /)\n",
      "     |      Return self==value.\n",
      "     |\n",
      "     |  __ge__(self, value, /)\n",
      "     |      Return self>=value.\n",
      "     |\n",
      "     |  __getinitargs__(...)\n",
      "     |      pickle support\n",
      "     |\n",
      "     |  __gt__(self, value, /)\n",
      "     |      Return self>value.\n",
      "     |\n",
      "     |  __hash__(self, /)\n",
      "     |      Return hash(self).\n",
      "     |\n",
      "     |  __le__(self, value, /)\n",
      "     |      Return self<=value.\n",
      "     |\n",
      "     |  __lt__(self, value, /)\n",
      "     |      Return self<value.\n",
      "     |\n",
      "     |  __ne__(self, value, /)\n",
      "     |      Return self!=value.\n",
      "     |\n",
      "     |  __repr__(self, /)\n",
      "     |      Return repr(self).\n",
      "     |\n",
      "     |  __str__(self, /)\n",
      "     |      Return str(self).\n",
      "     |\n",
      "     |  dst(...)\n",
      "     |      Return None.\n",
      "     |\n",
      "     |  fromutc(...)\n",
      "     |      datetime in UTC -> datetime in local time.\n",
      "     |\n",
      "     |  tzname(...)\n",
      "     |      If name is specified when timezone is created, returns the name.  Otherwise returns offset as 'UTC(+|-)HH:MM'.\n",
      "     |\n",
      "     |  utcoffset(...)\n",
      "     |      Return fixed offset.\n",
      "     |\n",
      "     |  ----------------------------------------------------------------------\n",
      "     |  Static methods defined here:\n",
      "     |\n",
      "     |  __new__(*args, **kwargs) from builtins.type\n",
      "     |      Create and return a new object.  See help(type) for accurate signature.\n",
      "     |\n",
      "     |  ----------------------------------------------------------------------\n",
      "     |  Data and other attributes defined here:\n",
      "     |\n",
      "     |  max = datetime.timezone(datetime.timedelta(seconds=86340))\n",
      "     |\n",
      "     |  min = datetime.timezone(datetime.timedelta(days=-1, seconds=60))\n",
      "     |\n",
      "     |  utc = datetime.timezone.utc\n",
      "     |\n",
      "     |  ----------------------------------------------------------------------\n",
      "     |  Methods inherited from tzinfo:\n",
      "     |\n",
      "     |  __getattribute__(self, name, /)\n",
      "     |      Return getattr(self, name).\n",
      "     |\n",
      "     |  __reduce__(...)\n",
      "     |      -> (cls, state)\n",
      "\n",
      "    class tzinfo(builtins.object)\n",
      "     |  Abstract base class for time zone info objects.\n",
      "     |\n",
      "     |  Methods defined here:\n",
      "     |\n",
      "     |  __getattribute__(self, name, /)\n",
      "     |      Return getattr(self, name).\n",
      "     |\n",
      "     |  __reduce__(...)\n",
      "     |      -> (cls, state)\n",
      "     |\n",
      "     |  dst(...)\n",
      "     |      datetime -> DST offset as timedelta positive east of UTC.\n",
      "     |\n",
      "     |  fromutc(...)\n",
      "     |      datetime in UTC -> datetime in local time.\n",
      "     |\n",
      "     |  tzname(...)\n",
      "     |      datetime -> string name of time zone.\n",
      "     |\n",
      "     |  utcoffset(...)\n",
      "     |      datetime -> timedelta showing offset from UTC, negative values indicating West of UTC\n",
      "     |\n",
      "     |  ----------------------------------------------------------------------\n",
      "     |  Static methods defined here:\n",
      "     |\n",
      "     |  __new__(*args, **kwargs) from builtins.type\n",
      "     |      Create and return a new object.  See help(type) for accurate signature.\n",
      "\n",
      "DATA\n",
      "    MAXYEAR = 9999\n",
      "    MINYEAR = 1\n",
      "    UTC = datetime.timezone.utc\n",
      "    __all__ = ('date', 'datetime', 'time', 'timedelta', 'timezone', 'tzinf...\n",
      "\n",
      "FILE\n",
      "    c:\\users\\ares\\appdata\\local\\programs\\python\\python312\\lib\\datetime.py\n",
      "\n",
      "\n"
     ]
    }
   ],
   "source": [
    "# Observe la documentación de la biblioteca datetime\n",
    "import datetime\n",
    "help(datetime)"
   ]
  },
  {
   "cell_type": "markdown",
   "metadata": {},
   "source": [
    "Se observa que datetime incluye las siguientes clases: date, datetime, time, timedelta, tzinfo y timezon. Cada una de ellas tiene una serie de funciones (métodos) que permiten crear un nuevo objeto (el método constructor) y modificarlo. Por ejemplo para crear un nuevo objeto de la clase date, basta con escribir el siguiente código:"
   ]
  },
  {
   "cell_type": "code",
   "execution_count": 3,
   "metadata": {},
   "outputs": [
    {
     "name": "stdout",
     "output_type": "stream",
     "text": [
      "2021-01-21\n",
      "<class 'datetime.date'>\n"
     ]
    }
   ],
   "source": [
    "fecha = datetime.date(month=1, day=21, year=2021)\n",
    "print(fecha)\n",
    "print(type(fecha))"
   ]
  },
  {
   "cell_type": "code",
   "execution_count": 8,
   "metadata": {},
   "outputs": [
    {
     "name": "stdout",
     "output_type": "stream",
     "text": [
      "Mi coche tiene  4  ruedas\n",
      "El coche se esta desplazando sobre 4 ruedas\n"
     ]
    }
   ],
   "source": [
    "class Coche(): # creacion de la clase :class nombre_clase():\n",
    "    ruedas=4 # atributo asocian con datos\n",
    "    def desplazamiento(self): # metodos asocian con funciones. self( Almacena el objeto de la clase)\n",
    "        print(\"El coche se esta desplazando sobre 4 ruedas\")\n",
    "#PROGRAMA PRINCIPAL        \n",
    "miVehiculo=Coche() # nombre_objeto=nombre_clase(). Creacion del objeto\n",
    "print(\"Mi coche tiene \", miVehiculo.ruedas, \" ruedas\") #nombre_objeto.nombre_atributo\n",
    "miVehiculo.desplazamiento() # nombre_objeto.nombre"
   ]
  },
  {
   "cell_type": "code",
   "execution_count": 7,
   "metadata": {},
   "outputs": [
    {
     "name": "stdout",
     "output_type": "stream",
     "text": [
      "{'__name__': 'datetime', '__doc__': 'Fast implementation of the datetime type.', '__package__': '', '__loader__': <_frozen_importlib_external.SourceFileLoader object at 0x000001B66853A1E0>, '__spec__': ModuleSpec(name='datetime', loader=<_frozen_importlib_external.SourceFileLoader object at 0x000001B66853A1E0>, origin='c:\\\\Users\\\\Ares\\\\AppData\\\\Local\\\\Programs\\\\Python\\\\Python312\\\\Lib\\\\datetime.py'), '__file__': 'c:\\\\Users\\\\Ares\\\\AppData\\\\Local\\\\Programs\\\\Python\\\\Python312\\\\Lib\\\\datetime.py', '__cached__': 'c:\\\\Users\\\\Ares\\\\AppData\\\\Local\\\\Programs\\\\Python\\\\Python312\\\\Lib\\\\__pycache__\\\\datetime.cpython-312.pyc', '__builtins__': {'__name__': 'builtins', '__doc__': \"Built-in functions, types, exceptions, and other objects.\\n\\nThis module provides direct access to all 'built-in'\\nidentifiers of Python; for example, builtins.len is\\nthe full name for the built-in function len().\\n\\nThis module is not normally accessed explicitly by most\\napplications, but can be useful in modules that provide\\nobjects with the same name as a built-in value, but in\\nwhich the built-in of that name is also needed.\", '__package__': '', '__loader__': <class '_frozen_importlib.BuiltinImporter'>, '__spec__': ModuleSpec(name='builtins', loader=<class '_frozen_importlib.BuiltinImporter'>, origin='built-in'), '__build_class__': <built-in function __build_class__>, '__import__': <built-in function __import__>, 'abs': <built-in function abs>, 'all': <built-in function all>, 'any': <built-in function any>, 'ascii': <built-in function ascii>, 'bin': <built-in function bin>, 'breakpoint': <built-in function breakpoint>, 'callable': <built-in function callable>, 'chr': <built-in function chr>, 'compile': <built-in function compile>, 'delattr': <built-in function delattr>, 'dir': <built-in function dir>, 'divmod': <built-in function divmod>, 'eval': <built-in function eval>, 'exec': <built-in function exec>, 'format': <built-in function format>, 'getattr': <built-in function getattr>, 'globals': <built-in function globals>, 'hasattr': <built-in function hasattr>, 'hash': <built-in function hash>, 'hex': <built-in function hex>, 'id': <built-in function id>, 'input': <bound method Kernel.raw_input of <ipykernel.ipkernel.IPythonKernel object at 0x000001B66A33ECF0>>, 'isinstance': <built-in function isinstance>, 'issubclass': <built-in function issubclass>, 'iter': <built-in function iter>, 'aiter': <built-in function aiter>, 'len': <built-in function len>, 'locals': <built-in function locals>, 'max': <built-in function max>, 'min': <built-in function min>, 'next': <built-in function next>, 'anext': <built-in function anext>, 'oct': <built-in function oct>, 'ord': <built-in function ord>, 'pow': <built-in function pow>, 'print': <built-in function print>, 'repr': <built-in function repr>, 'round': <built-in function round>, 'setattr': <built-in function setattr>, 'sorted': <built-in function sorted>, 'sum': <built-in function sum>, 'vars': <built-in function vars>, 'None': None, 'Ellipsis': Ellipsis, 'NotImplemented': NotImplemented, 'False': False, 'True': True, 'bool': <class 'bool'>, 'memoryview': <class 'memoryview'>, 'bytearray': <class 'bytearray'>, 'bytes': <class 'bytes'>, 'classmethod': <class 'classmethod'>, 'complex': <class 'complex'>, 'dict': <class 'dict'>, 'enumerate': <class 'enumerate'>, 'filter': <class 'filter'>, 'float': <class 'float'>, 'frozenset': <class 'frozenset'>, 'property': <class 'property'>, 'int': <class 'int'>, 'list': <class 'list'>, 'map': <class 'map'>, 'object': <class 'object'>, 'range': <class 'range'>, 'reversed': <class 'reversed'>, 'set': <class 'set'>, 'slice': <class 'slice'>, 'staticmethod': <class 'staticmethod'>, 'str': <class 'str'>, 'super': <class 'super'>, 'tuple': <class 'tuple'>, 'type': <class 'type'>, 'zip': <class 'zip'>, '__debug__': True, 'BaseException': <class 'BaseException'>, 'BaseExceptionGroup': <class 'BaseExceptionGroup'>, 'Exception': <class 'Exception'>, 'GeneratorExit': <class 'GeneratorExit'>, 'KeyboardInterrupt': <class 'KeyboardInterrupt'>, 'SystemExit': <class 'SystemExit'>, 'ArithmeticError': <class 'ArithmeticError'>, 'AssertionError': <class 'AssertionError'>, 'AttributeError': <class 'AttributeError'>, 'BufferError': <class 'BufferError'>, 'EOFError': <class 'EOFError'>, 'ImportError': <class 'ImportError'>, 'LookupError': <class 'LookupError'>, 'MemoryError': <class 'MemoryError'>, 'NameError': <class 'NameError'>, 'OSError': <class 'OSError'>, 'ReferenceError': <class 'ReferenceError'>, 'RuntimeError': <class 'RuntimeError'>, 'StopAsyncIteration': <class 'StopAsyncIteration'>, 'StopIteration': <class 'StopIteration'>, 'SyntaxError': <class 'SyntaxError'>, 'SystemError': <class 'SystemError'>, 'TypeError': <class 'TypeError'>, 'ValueError': <class 'ValueError'>, 'Warning': <class 'Warning'>, 'FloatingPointError': <class 'FloatingPointError'>, 'OverflowError': <class 'OverflowError'>, 'ZeroDivisionError': <class 'ZeroDivisionError'>, 'BytesWarning': <class 'BytesWarning'>, 'DeprecationWarning': <class 'DeprecationWarning'>, 'EncodingWarning': <class 'EncodingWarning'>, 'FutureWarning': <class 'FutureWarning'>, 'ImportWarning': <class 'ImportWarning'>, 'PendingDeprecationWarning': <class 'PendingDeprecationWarning'>, 'ResourceWarning': <class 'ResourceWarning'>, 'RuntimeWarning': <class 'RuntimeWarning'>, 'SyntaxWarning': <class 'SyntaxWarning'>, 'UnicodeWarning': <class 'UnicodeWarning'>, 'UserWarning': <class 'UserWarning'>, 'BlockingIOError': <class 'BlockingIOError'>, 'ChildProcessError': <class 'ChildProcessError'>, 'ConnectionError': <class 'ConnectionError'>, 'FileExistsError': <class 'FileExistsError'>, 'FileNotFoundError': <class 'FileNotFoundError'>, 'InterruptedError': <class 'InterruptedError'>, 'IsADirectoryError': <class 'IsADirectoryError'>, 'NotADirectoryError': <class 'NotADirectoryError'>, 'PermissionError': <class 'PermissionError'>, 'ProcessLookupError': <class 'ProcessLookupError'>, 'TimeoutError': <class 'TimeoutError'>, 'IndentationError': <class 'IndentationError'>, 'IndexError': <class 'IndexError'>, 'KeyError': <class 'KeyError'>, 'ModuleNotFoundError': <class 'ModuleNotFoundError'>, 'NotImplementedError': <class 'NotImplementedError'>, 'RecursionError': <class 'RecursionError'>, 'UnboundLocalError': <class 'UnboundLocalError'>, 'UnicodeError': <class 'UnicodeError'>, 'BrokenPipeError': <class 'BrokenPipeError'>, 'ConnectionAbortedError': <class 'ConnectionAbortedError'>, 'ConnectionRefusedError': <class 'ConnectionRefusedError'>, 'ConnectionResetError': <class 'ConnectionResetError'>, 'TabError': <class 'TabError'>, 'UnicodeDecodeError': <class 'UnicodeDecodeError'>, 'UnicodeEncodeError': <class 'UnicodeEncodeError'>, 'UnicodeTranslateError': <class 'UnicodeTranslateError'>, 'ExceptionGroup': <class 'ExceptionGroup'>, 'EnvironmentError': <class 'OSError'>, 'IOError': <class 'OSError'>, 'WindowsError': <class 'OSError'>, 'open': <built-in function open>, 'copyright': Copyright (c) 2001-2023 Python Software Foundation.\n",
      "All Rights Reserved.\n",
      "\n",
      "Copyright (c) 2000 BeOpen.com.\n",
      "All Rights Reserved.\n",
      "\n",
      "Copyright (c) 1995-2001 Corporation for National Research Initiatives.\n",
      "All Rights Reserved.\n",
      "\n",
      "Copyright (c) 1991-1995 Stichting Mathematisch Centrum, Amsterdam.\n",
      "All Rights Reserved., 'credits':     Thanks to CWI, CNRI, BeOpen.com, Zope Corporation and a cast of thousands\n",
      "    for supporting Python development.  See www.python.org for more information., 'license': Type license() to see the full license text, 'help': Type help() for interactive help, or help(object) for help about object., 'execfile': <function execfile at 0x000001B669FBE020>, 'runfile': <function runfile at 0x000001B66A0AE3E0>, '__IPYTHON__': True, 'display': <function display at 0x000001B668B604A0>, 'get_ipython': <bound method InteractiveShell.get_ipython of <ipykernel.zmqshell.ZMQInteractiveShell object at 0x000001B66A33E930>>}, 'date': <class 'datetime.date'>, 'datetime': <class 'datetime.datetime'>, 'time': <class 'datetime.time'>, 'timedelta': <class 'datetime.timedelta'>, 'tzinfo': <class 'datetime.tzinfo'>, 'timezone': <class 'datetime.timezone'>, 'MINYEAR': 1, 'MAXYEAR': 9999, 'datetime_CAPI': <capsule object \"datetime.datetime_CAPI\" at 0x000001B66853A820>, 'UTC': datetime.timezone.utc, '__all__': ('date', 'datetime', 'time', 'timedelta', 'timezone', 'tzinfo', 'MINYEAR', 'MAXYEAR', 'UTC')}\n"
     ]
    }
   ],
   "source": [
    "print(datetime.__dict__)"
   ]
  },
  {
   "cell_type": "markdown",
   "metadata": {},
   "source": [
    "La función anterior no es la única que permite crear nuevos objetos, observe que la función \"today\" también permite crear un objeto de la clase \"datetime.date\":"
   ]
  },
  {
   "cell_type": "code",
   "execution_count": null,
   "metadata": {},
   "outputs": [],
   "source": [
    "hoy = datetime.date.today()\n",
    "print(hoy)\n",
    "print(type(hoy))"
   ]
  },
  {
   "cell_type": "markdown",
   "metadata": {},
   "source": [
    "Observe que estas funciones siguen la sintaxis:\n",
    "\n",
    "    biblioteca.funcion(argumentos)\n",
    "    \n",
    "Recuerde que a menudo el nombre de la biblioteca se reemplaza por un alias.\n",
    "Por ejemplo en lugar de escribir:"
   ]
  },
  {
   "cell_type": "code",
   "execution_count": null,
   "metadata": {},
   "outputs": [],
   "source": [
    "import datetime \n",
    "hoy = datetime.date.today()\n",
    "print(hoy)\n",
    "print(type(hoy))"
   ]
  },
  {
   "cell_type": "markdown",
   "metadata": {},
   "source": [
    "Se escribe:"
   ]
  },
  {
   "cell_type": "code",
   "execution_count": null,
   "metadata": {},
   "outputs": [],
   "source": [
    "import datetime as dt # se coloca el alias\n",
    "hoy = dt.date.today() ### dt en lugar de datetime\n",
    "print(hoy)\n",
    "print(type(hoy))"
   ]
  },
  {
   "cell_type": "markdown",
   "metadata": {},
   "source": [
    "Por otro lado, también se puede importar tan solo una clase del paquete, utilizando la sintaxis:\n",
    "from [paquete] import [clase]"
   ]
  },
  {
   "cell_type": "code",
   "execution_count": 10,
   "metadata": {},
   "outputs": [
    {
     "name": "stdout",
     "output_type": "stream",
     "text": [
      "2023-12-10\n",
      "<class 'datetime.date'>\n"
     ]
    }
   ],
   "source": [
    "from datetime import date  \n",
    "hoy = date.today()\n",
    "print(hoy)\n",
    "print(type(hoy))"
   ]
  },
  {
   "cell_type": "markdown",
   "metadata": {},
   "source": [
    "### Atributos y Métodos"
   ]
  },
  {
   "cell_type": "markdown",
   "metadata": {},
   "source": [
    "Los objetos tienen atributos, los cuales se pueden solicitar:"
   ]
  },
  {
   "cell_type": "code",
   "execution_count": 11,
   "metadata": {},
   "outputs": [
    {
     "name": "stdout",
     "output_type": "stream",
     "text": [
      "12\n",
      "<class 'int'>\n"
     ]
    }
   ],
   "source": [
    "print(hoy.month) #objeto.atributo\n",
    "print(type(hoy.month))"
   ]
  },
  {
   "cell_type": "code",
   "execution_count": null,
   "metadata": {},
   "outputs": [],
   "source": [
    "print(hoy.year)"
   ]
  },
  {
   "cell_type": "code",
   "execution_count": null,
   "metadata": {},
   "outputs": [],
   "source": [
    "print(hoy.day)"
   ]
  },
  {
   "cell_type": "code",
   "execution_count": null,
   "metadata": {},
   "outputs": [],
   "source": [
    "print(hoy)"
   ]
  },
  {
   "cell_type": "markdown",
   "metadata": {},
   "source": [
    "Además, estos objetos pueden ser modificados. En el caso de la clase \"date\" se modifican con el método replace:"
   ]
  },
  {
   "cell_type": "code",
   "execution_count": null,
   "metadata": {},
   "outputs": [],
   "source": [
    "fecha = fecha.replace(year=2023, month=5, day=1) #objeto.metodo(argumentos)\n",
    "print(fecha)"
   ]
  },
  {
   "cell_type": "markdown",
   "metadata": {},
   "source": [
    "Observe la diferencia entre atributos y métodos, mientras un atributo se obtiene de la sintaxis:\n",
    "    \n",
    "    objeto.atributo\n",
    "\n",
    "Un método se ejecuta con la sintaxis:\n",
    "\n",
    "    objeto.método(argumentos)\n",
    "\n",
    "Podrá inferir que __los métodos son funciones definidas exclusivamente para determinadas clases de objetos.__"
   ]
  },
  {
   "cell_type": "markdown",
   "metadata": {},
   "source": [
    "### Sintaxis\n",
    "\n",
    "Para crear nuevas clases en Python se sigue la siguiente sintaxis:\n",
    "\n",
    "class [nombreDeLaClase]:\n",
    "    \n",
    "    cuerpo\n",
    "    \n",
    "\n",
    "Observe que la creación de clases se realiza con la palabra clave \"class\" y dentro de la estructura se pueden definir atributos y métodos para dicha clase. Todo el cuerpo, al igual que en las otras estructuras, requiere sangrado, el mismo que delimita dónde se termina de definir la clase.\n",
    "\n",
    "A continuación se creará la clase \"Cuadrado\", la primera función que se define es el inicializador \"__init__\""
   ]
  },
  {
   "cell_type": "code",
   "execution_count": null,
   "metadata": {},
   "outputs": [],
   "source": [
    "class cuadrado:\n",
    "        \n",
    "    # la función __init__ permite la construcción de objetos.\n",
    "    def __init__(self, dato_lado): \n",
    "        # el argumento self hace referencia al objeto en sí (a sí mismo)\n",
    "        self._lado = dato_lado        \n",
    "        # objeto.atributo\n",
    "        # se define el atributo lado\n",
    "    "
   ]
  },
  {
   "cell_type": "code",
   "execution_count": null,
   "metadata": {},
   "outputs": [],
   "source": [
    "cuadrado1 = cuadrado(dato_lado=5)"
   ]
  },
  {
   "cell_type": "code",
   "execution_count": null,
   "metadata": {},
   "outputs": [],
   "source": [
    "print(cuadrado1)"
   ]
  },
  {
   "cell_type": "code",
   "execution_count": null,
   "metadata": {},
   "outputs": [],
   "source": [
    "print(type(cuadrado1))"
   ]
  },
  {
   "cell_type": "code",
   "execution_count": null,
   "metadata": {},
   "outputs": [],
   "source": [
    "print(cuadrado1._lado) #objeto.lado"
   ]
  },
  {
   "cell_type": "code",
   "execution_count": null,
   "metadata": {},
   "outputs": [],
   "source": [
    "cuadrado2 = cuadrado(7)"
   ]
  },
  {
   "cell_type": "code",
   "execution_count": null,
   "metadata": {},
   "outputs": [],
   "source": [
    "print(cuadrado2._lado)"
   ]
  },
  {
   "cell_type": "markdown",
   "metadata": {},
   "source": [
    "Existen atributos comunes para todos los objetos, pero a la vez atributos únicos que identifican al objeto. Estos atributos se pueden modificar utilizando funciones que se hayan definido con anticipación."
   ]
  },
  {
   "cell_type": "code",
   "execution_count": null,
   "metadata": {},
   "outputs": [],
   "source": [
    "class cuadrado:\n",
    "    #atributos comunes\n",
    "    _dimension = '2D'         \n",
    "    _vertices = 4 \n",
    "\n",
    "    def __init__(self, lado, color):\n",
    "        #atributos independientes\n",
    "        self._lado = lado\n",
    "        self._color = color"
   ]
  },
  {
   "cell_type": "code",
   "execution_count": null,
   "metadata": {},
   "outputs": [],
   "source": [
    "cuadrado3 = cuadrado(3, \"azul\")"
   ]
  },
  {
   "cell_type": "code",
   "execution_count": null,
   "metadata": {},
   "outputs": [],
   "source": [
    "print(cuadrado3._dimension)"
   ]
  },
  {
   "cell_type": "code",
   "execution_count": null,
   "metadata": {},
   "outputs": [],
   "source": [
    "print(cuadrado3._color)"
   ]
  },
  {
   "cell_type": "code",
   "execution_count": null,
   "metadata": {},
   "outputs": [],
   "source": [
    "print(cuadrado3._vertices)"
   ]
  },
  {
   "cell_type": "code",
   "execution_count": null,
   "metadata": {},
   "outputs": [],
   "source": [
    "print(cuadrado3._lado)"
   ]
  },
  {
   "cell_type": "code",
   "execution_count": null,
   "metadata": {},
   "outputs": [],
   "source": [
    "cuadrado4 = cuadrado(4, \"celeste\")"
   ]
  },
  {
   "cell_type": "code",
   "execution_count": null,
   "metadata": {},
   "outputs": [],
   "source": [
    "cuadrado4._vertices"
   ]
  },
  {
   "cell_type": "markdown",
   "metadata": {},
   "source": [
    "Hasta ahora solo se han definido atributos, a continuación se definirán métodos. Podrá observar que para definir métodos se utilizan las mismas reglas utilizadas para definir funciones"
   ]
  },
  {
   "cell_type": "code",
   "execution_count": null,
   "metadata": {},
   "outputs": [],
   "source": [
    "# Se pueden crear metodos (funciones) para la clase\n",
    "\n",
    "class cuadrado:\n",
    "    #atributos comunes\n",
    "    _dimension = '2D'         \n",
    "    _vertices = 4 \n",
    "       \n",
    "    def __init__(self, lado, color):\n",
    "        #atributos independientes\n",
    "        self._lado = lado\n",
    "        self._color = color\n",
    "        self._area = lado**2\n",
    "\n",
    "        \n",
    "    # se pueden crear nuevos metodos para la clase\n",
    "    # metodos para modificar un objeto\n",
    "    def lado(self, nuevo_lado):\n",
    "        self._lado = nuevo_lado\n",
    "        self._area = nuevo_lado**2\n",
    "        print(\"se modifico la medida del lado a {}\".format(self._lado))\n",
    "    \n",
    "    # metodos que permiten la interaccion entre objetos de la misma clase\n",
    "    def suma_areas(cuadrado1, cuadrado2): \n",
    "        suma = cuadrado1._area + cuadrado2._area \n",
    "        print(\"La suma de las areas de los cuadrados es {} \".format(\n",
    "            suma))"
   ]
  },
  {
   "cell_type": "code",
   "execution_count": null,
   "metadata": {},
   "outputs": [],
   "source": [
    "cuadrado5 = cuadrado(10, \"rojo\")"
   ]
  },
  {
   "cell_type": "code",
   "execution_count": null,
   "metadata": {},
   "outputs": [],
   "source": [
    "print(cuadrado5._lado)"
   ]
  },
  {
   "cell_type": "code",
   "execution_count": null,
   "metadata": {},
   "outputs": [],
   "source": [
    "cuadrado5.lado(15)"
   ]
  },
  {
   "cell_type": "code",
   "execution_count": null,
   "metadata": {},
   "outputs": [],
   "source": [
    "print(cuadrado5._lado)"
   ]
  },
  {
   "cell_type": "code",
   "execution_count": null,
   "metadata": {},
   "outputs": [],
   "source": [
    "cuadrado6 = cuadrado(12, \"amarillo\")"
   ]
  },
  {
   "cell_type": "code",
   "execution_count": null,
   "metadata": {},
   "outputs": [],
   "source": [
    "print(cuadrado6._lado)"
   ]
  },
  {
   "cell_type": "code",
   "execution_count": null,
   "metadata": {},
   "outputs": [],
   "source": [
    "cuadrado.suma_areas(cuadrado5, cuadrado6)"
   ]
  },
  {
   "cell_type": "markdown",
   "metadata": {},
   "source": [
    "Una función bastante útil es \"__str__\" ya que permite documentar o nombrar a cada objeto."
   ]
  },
  {
   "cell_type": "code",
   "execution_count": null,
   "metadata": {},
   "outputs": [],
   "source": [
    "class cuadrado:\n",
    "    #atributos comunes\n",
    "    _dimension = '2D'         \n",
    "    _vertices = 4 \n",
    "\n",
    "    def __init__(self, lado, color):\n",
    "        #atributos independientes\n",
    "        self._lado = lado\n",
    "        self._color = color\n",
    "        self._area = lado**2\n",
    "\n",
    "        \n",
    "    # se pueden crear nuevos metodos para la clase\n",
    "    # metodos para modificar un objeto\n",
    "    def lado(self, nuevo_lado):\n",
    "        self._lado = nuevo_lado\n",
    "        self._area = nuevo_lado**2\n",
    "        print(\"se modifico la medida del lado a {}\".format(self._lado))\n",
    "    \n",
    "    # metodos que permiten la interaccion entre objetos de la misma clase\n",
    "    def suma_areas(cuadrado1, cuadrado2): \n",
    "        suma = cuadrado1._area + cuadrado2._area \n",
    "        print(\"La suma de las areas de los cuadrados es {} \".format(\n",
    "            suma))\n",
    "\n",
    "    def __str__(self):\n",
    "        return \"dimension: {}, vertices: {}, color: {}, lado: {}, area: {}\".format(\n",
    "                self._dimension,self._vertices, self._color, self._lado, \n",
    "                self._area)"
   ]
  },
  {
   "cell_type": "code",
   "execution_count": null,
   "metadata": {},
   "outputs": [],
   "source": [
    "cuadrado7 = cuadrado(17, \"verde\")"
   ]
  },
  {
   "cell_type": "markdown",
   "metadata": {},
   "source": [
    "Observe que al imprimir en pantalla el objeto \"cuadrado7\" se obtiene lo especificado en la función \"__str__\""
   ]
  },
  {
   "cell_type": "code",
   "execution_count": null,
   "metadata": {},
   "outputs": [],
   "source": [
    "print(cuadrado7)"
   ]
  },
  {
   "cell_type": "markdown",
   "metadata": {},
   "source": [
    "Lo cual no sucede con los objetos creados cuando aún no se había definido dicha función."
   ]
  },
  {
   "cell_type": "code",
   "execution_count": null,
   "metadata": {},
   "outputs": [],
   "source": [
    "print(cuadrado6)"
   ]
  },
  {
   "cell_type": "markdown",
   "metadata": {},
   "source": [
    "Observe otro ejemplo. En este caso se define una clase denominada auto:"
   ]
  },
  {
   "cell_type": "code",
   "execution_count": null,
   "metadata": {},
   "outputs": [],
   "source": [
    "# Se creará una clase auto\n",
    "\n",
    "class auto:\n",
    "\n",
    "    ruedas = 4\n",
    "    puertas = 4\n",
    "    estado = None\n",
    "\n",
    "    def __init__(self, color_auto, marca_auto, ejes_auto, cilindros_auto):\n",
    "        self.color = color_auto\n",
    "        self.marca = marca_auto\n",
    "        self.ejes = ejes_auto\n",
    "        self.cilindros = cilindros_auto\n",
    "    \n",
    "    def iniciar_recorrido(self):\n",
    "        print(\"El auto se ha encendido\")\n",
    "        self.estado = \"Encendido\" "
   ]
  },
  {
   "cell_type": "code",
   "execution_count": null,
   "metadata": {},
   "outputs": [],
   "source": [
    "miAuto = auto(\"azul\", \"Toyota\", 1, 3)"
   ]
  },
  {
   "cell_type": "code",
   "execution_count": null,
   "metadata": {},
   "outputs": [],
   "source": [
    "print(miAuto.cilindros)"
   ]
  },
  {
   "cell_type": "code",
   "execution_count": null,
   "metadata": {},
   "outputs": [],
   "source": [
    "print(miAuto.color)"
   ]
  },
  {
   "cell_type": "code",
   "execution_count": null,
   "metadata": {},
   "outputs": [],
   "source": [
    "miAuto.iniciar_recorrido()"
   ]
  },
  {
   "cell_type": "code",
   "execution_count": null,
   "metadata": {},
   "outputs": [],
   "source": [
    "print(miAuto.estado)"
   ]
  },
  {
   "cell_type": "code",
   "execution_count": null,
   "metadata": {},
   "outputs": [],
   "source": [
    "auto2 = auto(\"verde\", \"Toyota\", 1, 3)"
   ]
  },
  {
   "cell_type": "code",
   "execution_count": null,
   "metadata": {},
   "outputs": [],
   "source": [
    "auto2.iniciar_recorrido()"
   ]
  },
  {
   "cell_type": "code",
   "execution_count": null,
   "metadata": {},
   "outputs": [],
   "source": [
    "print(auto2.estado)"
   ]
  },
  {
   "cell_type": "markdown",
   "metadata": {},
   "source": [
    "Tome en cuenta que al crear nuevos métodos tome en cuenta que los nombres de los métodos no pueden ser los mismos que los nombres de las variables."
   ]
  },
  {
   "cell_type": "markdown",
   "metadata": {},
   "source": [
    "### Para Practicar"
   ]
  },
  {
   "cell_type": "markdown",
   "metadata": {},
   "source": [
    "1. A continuación complete el código para la clase auto: defina el método __str__. "
   ]
  },
  {
   "cell_type": "code",
   "execution_count": null,
   "metadata": {},
   "outputs": [],
   "source": [
    "class auto:\n",
    "\n",
    "    ruedas = 4\n",
    "    puertas = 4\n",
    "    estado = None\n",
    "\n",
    "    def __init__(self, color_auto:str, marca_auto:str, ejes_auto, cilindros_auto):\n",
    "        self.color = color_auto\n",
    "        self.marca = marca_auto\n",
    "        self.ejes = ejes_auto\n",
    "        self.cilindros = cilindros_auto\n",
    "    \n",
    "    def iniciar_recorrido(self):\n",
    "        print(\"El auto se ha encendido\")\n",
    "        self.estado = \"Encendido\"\n"
   ]
  },
  {
   "cell_type": "markdown",
   "metadata": {},
   "source": [
    "2. Cree la clase \"fecha\" de tal manera que se cubran los siguientes requerimientos:\n",
    "    \n",
    "    Un objeto que pertenece a la clase fecha se define con tres argumentos: año, mes y día.\n",
    "    \n",
    "    Los objetos deben tener el atributo formato, el cual debe ser por defecto \"estandar\", pero puede cambiar a \"ISO\" o \"sofisticado\". \n",
    "    \n",
    "    Debe definir métodos para cambiar la fecha entre los tres distintos formatos: \"estandar\", \"ISO\", o \"sofisticado\". \n",
    "    \n",
    "    Formato estandar: \"dd-mm-aaaa\" (17-01-2005)\n",
    "    \n",
    "    Formato \"ISO\": \"aaaa-mm-dd\" (2005-01-17)\n",
    "    \n",
    "    Formato \"sofisticado\": \"aaaa-mm-dd\" (2005-ene-17)"
   ]
  },
  {
   "cell_type": "code",
   "execution_count": null,
   "metadata": {},
   "outputs": [],
   "source": []
  },
  {
   "cell_type": "markdown",
   "metadata": {},
   "source": [
    "### Herencia"
   ]
  },
  {
   "cell_type": "markdown",
   "metadata": {},
   "source": [
    "El concepto de herencia en programación permite que nuevas clases __reutilicen__ (hereden) los atributos y métodos de clases que han sido definidas con anticipación."
   ]
  },
  {
   "cell_type": "code",
   "execution_count": null,
   "metadata": {},
   "outputs": [],
   "source": [
    "# La clase persona será una clase que más adelante compartirá sus funciones\n",
    "# Complete el metodo init y metodo presentacion.\n",
    "\n",
    "class Persona(object):\n",
    "    \"\"\"Clase que representa una Persona\"\"\"\n",
    "    \n",
    "    # definir atributos dni, apellido y nombre \n",
    "    def __init__(self, dni, apellido, nombre):\n",
    "        \"\"\"Constructor de clase Persona\"\"\"\n",
    "        self.dni = dni\n",
    "        self.apellido = apellido\n",
    "        self.nombre = nombre\n",
    "\n",
    "    def presentacion(self):\n",
    "        \"\"\"Devuelve una cadena representativa de Persona\"\"\"\n",
    "        return \"{} {}, {}\".format(self.apellido, self.nombre, self.dni)"
   ]
  },
  {
   "cell_type": "code",
   "execution_count": null,
   "metadata": {},
   "outputs": [],
   "source": [
    "f = Persona(12345678,\"Gonzales\", \"Gonzalo\")"
   ]
  },
  {
   "cell_type": "code",
   "execution_count": null,
   "metadata": {},
   "outputs": [],
   "source": [
    "print(f.presentacion())"
   ]
  },
  {
   "cell_type": "markdown",
   "metadata": {},
   "source": [
    "Una nueva clase hereda de otra mediante dos pasos en el código:\n",
    "1. Pasar como argumento de la nueva clase a la clase base\n",
    "2. Utilizar el inicializador o constructor de la primera clase dentro del constructor de la segunda clase "
   ]
  },
  {
   "cell_type": "code",
   "execution_count": null,
   "metadata": {},
   "outputs": [],
   "source": [
    "# La clase supervisor heredará los atributos y funciones de la clase persona\n",
    "class Alumno(Persona): #PASO 1\n",
    "    \"\"\"Clase que representa a un Supervisor\"\"\"\n",
    "    \n",
    "    # un alumno tiene dni, apellido, nombre y clase a la que pertenece\n",
    "    def __init__(self, dni, apellido, nombre, clase ):\n",
    "        \"\"\"Constructor de clase Supervisor\"\"\"\n",
    "\n",
    "        # Invoca al constructor de clase Persona\n",
    "        Persona.__init__(self, dni, apellido, nombre) # PASO 02\n",
    "        # Recuerde pedir los argumentos suficientes en el constructor\n",
    "        \n",
    "        # Nuevos atributos\n",
    "        self.permisos = ['Ingresar a clases','Presentar Tareas', \"Presentar examenes\"]\n",
    "        self.clase = clase"
   ]
  },
  {
   "cell_type": "code",
   "execution_count": null,
   "metadata": {},
   "outputs": [],
   "source": [
    "alumno1 = Alumno(87654321, \"Godinez\", \"Godin\", \"101\")\n"
   ]
  },
  {
   "cell_type": "code",
   "execution_count": null,
   "metadata": {},
   "outputs": [],
   "source": [
    "print(alumno1.presentacion())"
   ]
  },
  {
   "cell_type": "code",
   "execution_count": null,
   "metadata": {},
   "outputs": [],
   "source": [
    "print(alumno1.permisos)"
   ]
  },
  {
   "cell_type": "markdown",
   "metadata": {},
   "source": [
    "Veamos otro ejemplo. En este caso se heredan los atributos y métodos definidos en la clase \"Cuadrilatero\" a las clases \"Cuadrado\" y \"Rectangulo\". Cada una de estas dos clases se ha adapatado para definir un método que calcula el área en cada caso particular de los cuadrados o rectángulos."
   ]
  },
  {
   "cell_type": "markdown",
   "metadata": {},
   "source": [
    "Observe también que se ha utilizado la función especial __new__ en lugar de __init__. La función __new__ se denomina constructor, permite construir un objeto (instancia) mientras que __init__ realiza las tareas de inicialización después de creado el objeto. Como habrá observado, la función __new__ se puede omitir y pasar directamente a __init__ como en los ejemplos anteriores. La función __new__ se emplea para establecer condiciones antes de crear un objeto, en este caso se ha empleado para establecer la condición \"los lados deben ser numeros enteros\". Tome en cuenta que esta función requiere que se retorne el objeto self."
   ]
  },
  {
   "cell_type": "code",
   "execution_count": null,
   "metadata": {},
   "outputs": [],
   "source": [
    "class Cuadrilatero:    \n",
    "    \n",
    "    _n_lados = 4\n",
    "    _dimension = \"2D\"\n",
    "    \n",
    "    \n",
    "    def __new__(cls, lado1, lado2, lado3, lado4):\n",
    "\n",
    "        for x in [lado1, lado2, lado3, lado4]:\n",
    "                    # la funcion isinstance permite verificar si \n",
    "                    # un objeto es de una clase en especifico\n",
    "            if  isinstance(x,int) == False:\n",
    "                raise TypeError (\"se admiten solo numeros enteros\")\n",
    "            \n",
    "        self = object.__new__(cls)\n",
    "\n",
    "        self._lado1 = lado1\n",
    "        self._lado2 = lado2\n",
    "        self._lado3 = lado3\n",
    "        self._lado4 = lado4\n",
    "\n",
    "        return self        \n",
    "    \n",
    "    \n",
    "    def perimetro(self):\n",
    "        self._perimetro = self._lado1 + self._lado2 + \\\n",
    "                            self._lado3 + self._lado4\n",
    "        return \"el perimetro es {} unidades\".format(self._perimetro)\n",
    "        # la barra \"\\\"  permite continuar la operación en la siguiente\n",
    "        # linea "
   ]
  },
  {
   "cell_type": "code",
   "execution_count": null,
   "metadata": {},
   "outputs": [],
   "source": [
    "c = Cuadrilatero(1,2,1,2)"
   ]
  },
  {
   "cell_type": "code",
   "execution_count": null,
   "metadata": {},
   "outputs": [],
   "source": [
    "c.perimetro()"
   ]
  },
  {
   "cell_type": "code",
   "execution_count": null,
   "metadata": {},
   "outputs": [],
   "source": [
    "# si define algún lado como flotante, obtendra un TypeError\n",
    "#c = Cuadrilatero(1,2,1,2.4)"
   ]
  },
  {
   "cell_type": "code",
   "execution_count": null,
   "metadata": {},
   "outputs": [],
   "source": [
    "class Rectangulo(Cuadrilatero): #Paso1\n",
    "    \n",
    "    def __new__(cls, base, altura):\n",
    "        self = Cuadrilatero.__new__(cls, base, altura, base, altura) #Paso2\n",
    "        return self\n",
    "    \n",
    "    def area(self): \n",
    "        base = self._lado1\n",
    "        altura = self._lado2\n",
    "        self._area = base*altura\n",
    "        return \"el area es {} unidades\".format(self._area)"
   ]
  },
  {
   "cell_type": "code",
   "execution_count": null,
   "metadata": {},
   "outputs": [],
   "source": [
    "class Cuadrado(Cuadrilatero):\n",
    "    \n",
    "    def __new__(cls, lado):\n",
    "        self = Cuadrilatero.__new__(cls, lado, lado, lado, lado)\n",
    "        return self\n",
    "    \n",
    "    def area(self):\n",
    "        lado = self._lado1\n",
    "        self._area = lado**2\n",
    "        #area = lado **2\n",
    "        return \"el area es {} unidades\".format(self._area)\n",
    "        #return \"el area es {} unidades\".format(area)"
   ]
  },
  {
   "cell_type": "code",
   "execution_count": null,
   "metadata": {},
   "outputs": [],
   "source": [
    "rectangulo1 = Rectangulo(15,20)"
   ]
  },
  {
   "cell_type": "code",
   "execution_count": null,
   "metadata": {},
   "outputs": [],
   "source": [
    "print(rectangulo1.perimetro())"
   ]
  },
  {
   "cell_type": "code",
   "execution_count": null,
   "metadata": {},
   "outputs": [],
   "source": [
    "print(rectangulo1.area())"
   ]
  },
  {
   "cell_type": "code",
   "execution_count": null,
   "metadata": {},
   "outputs": [],
   "source": [
    "cuadrado1 = Cuadrado(8)"
   ]
  },
  {
   "cell_type": "code",
   "execution_count": null,
   "metadata": {},
   "outputs": [],
   "source": [
    "print(cuadrado1.perimetro())"
   ]
  },
  {
   "cell_type": "code",
   "execution_count": null,
   "metadata": {},
   "outputs": [],
   "source": [
    "print(cuadrado1.area())"
   ]
  },
  {
   "cell_type": "code",
   "execution_count": null,
   "metadata": {},
   "outputs": [],
   "source": [
    "cuadrado1._area"
   ]
  },
  {
   "cell_type": "markdown",
   "metadata": {},
   "source": [
    "### Para practicar"
   ]
  },
  {
   "cell_type": "markdown",
   "metadata": {},
   "source": [
    "Cree la clase \"Profesor\" que va a heredar los atributos y métodos de la clase persona (se encuentra celdas arriba) . Contará con el método \"asignaturas\" ya que un profesor dirige una única asignatura y además contará con el atributo permisos (del tipo list), los cuales serán \"Ingresar a clases\", \"Evaluar tareas\" y \"Evaluar examenes\" "
   ]
  },
  {
   "cell_type": "code",
   "execution_count": null,
   "metadata": {},
   "outputs": [],
   "source": []
  },
  {
   "cell_type": "markdown",
   "metadata": {},
   "source": [
    "Cree la clase \"Triángulo\" donde el método constructor debe pedir el módulo (medida) de los tres lados, que se denominarán a, b y c. Además la clase debe tener un método para hallar el perímetro y otro para hallar el área (ambos en función de los tres lados del triángulo). \n",
    "\n",
    "Sean a, b y c los lados de un triángulo:\n",
    "\n",
    "     Area = (p x (p - a) x (p - b) x (p - c)) ** (1/2)\n",
    "     donde p es el semiperímetro:\n",
    "     p = (a+b+c)/2\n",
    " \n",
    "Además deberá tomar en cuenta la propiedad de existencia de un triángulo. Esta propiedad indica que un triángulo existe si  y solo si la suma de la medida de dos lados es mayor que la medida del tercero. Por tanto debe considerar que las siguientes desigualdades se cumplan:\n",
    "\n",
    "    a + b > c\n",
    "    a + c > b\n",
    "    b + c > a\n",
    "\n",
    "En caso que no se cumplan la condición de existencia no se debe crear el objeto triángulo y se debe mostrar en pantalla un mensaje de advertencia que indique que el triángulo no respeta la condición de existencia y por tanto no se creó el objeto (utilice sentencias condicionales junto al constructor new para resolver)\n"
   ]
  },
  {
   "cell_type": "code",
   "execution_count": null,
   "metadata": {},
   "outputs": [],
   "source": [
    "\n",
    "\n"
   ]
  },
  {
   "cell_type": "markdown",
   "metadata": {},
   "source": [
    "#### Blogs para repasar los conceptos\n",
    "\n",
    "#https://docs.python.org/es/3/tutorial/classes.html\n",
    "\n",
    "#https://pythones.net/clases-y-metodos-python-oop/\n",
    "\n",
    "#https://entrenamiento-python-basico.readthedocs.io/es/latest/leccion9/poo.html\n",
    "\n",
    "#https://entrenamiento-python-basico.readthedocs.io/es/latest/leccion9/herencia.html"
   ]
  }
 ],
 "metadata": {
  "kernelspec": {
   "display_name": "Python 3",
   "language": "python",
   "name": "python3"
  },
  "language_info": {
   "codemirror_mode": {
    "name": "ipython",
    "version": 3
   },
   "file_extension": ".py",
   "mimetype": "text/x-python",
   "name": "python",
   "nbconvert_exporter": "python",
   "pygments_lexer": "ipython3",
   "version": "3.12.0"
  }
 },
 "nbformat": 4,
 "nbformat_minor": 2
}
