{
 "cells": [
  {
   "cell_type": "markdown",
   "metadata": {},
   "source": [
    "Cree un archivo de texto llamado 'datos.txt', almacene tres líneas de texto. Abrir luego el archivo creado con un editor de texto.\n"
   ]
  },
  {
   "cell_type": "code",
   "execution_count": 3,
   "metadata": {},
   "outputs": [],
   "source": [
    "# creamos el archvio y le damos 3 lineas de texto\n",
    "with open('tarea_texto.txt', 'w') as archivo:\n",
    "    for i in range(1,4):\n",
    "        archivo.write(f'{i}. Lineas de texto\\n')"
   ]
  },
  {
   "cell_type": "markdown",
   "metadata": {},
   "source": [
    "Lea el contenido del archivo de texto 'datos.txt'."
   ]
  },
  {
   "cell_type": "code",
   "execution_count": 5,
   "metadata": {},
   "outputs": [
    {
     "name": "stdout",
     "output_type": "stream",
     "text": [
      "1. Lineas de texto\n",
      "2. Lineas de texto\n",
      "3. Lineas de texto\n",
      "\n"
     ]
    }
   ],
   "source": [
    "with open('tarea_texto.txt','r') as archivo:\n",
    "    contenido = archivo.read()  # Leemos el contenido del archivo\n",
    "    print(contenido)            # imprimimos el contenido del archivo"
   ]
  },
  {
   "cell_type": "markdown",
   "metadata": {},
   "source": [
    "Lea el contenido del archivo de texto 'datos.txt' línea a línea."
   ]
  },
  {
   "cell_type": "code",
   "execution_count": 6,
   "metadata": {},
   "outputs": [
    {
     "name": "stdout",
     "output_type": "stream",
     "text": [
      "1. Lineas de texto\n",
      "\n",
      "2. Lineas de texto\n",
      "\n",
      "3. Lineas de texto\n",
      "\n"
     ]
    }
   ],
   "source": [
    "with open('tarea_texto.txt','r') as archivo:\n",
    "    for linea in archivo:   # Leemos linea por linea el contenido del archivo\n",
    "        print(linea)"
   ]
  },
  {
   "cell_type": "markdown",
   "metadata": {},
   "source": [
    "Leer el contenido del archivo de texto 'datos.txt' y almacenar sus líneas en una lista. "
   ]
  },
  {
   "cell_type": "code",
   "execution_count": 7,
   "metadata": {},
   "outputs": [
    {
     "data": {
      "text/plain": [
       "['1. Lineas de texto\\n', '2. Lineas de texto\\n', '3. Lineas de texto\\n']"
      ]
     },
     "execution_count": 7,
     "metadata": {},
     "output_type": "execute_result"
    }
   ],
   "source": [
    "with open('tarea_texto.txt','r') as archivo:\n",
    "    lista_contenido = archivo.readlines()\n",
    "\n",
    "lista_contenido"
   ]
  },
  {
   "cell_type": "markdown",
   "metadata": {},
   "source": [
    "Imprimir la cantidad de líneas que tiene el archivo y su contenido."
   ]
  },
  {
   "cell_type": "code",
   "execution_count": 31,
   "metadata": {},
   "outputs": [
    {
     "name": "stdout",
     "output_type": "stream",
     "text": [
      "cantidad de lineas: 3\n",
      "1. Lineas de texto\n",
      "\n",
      "2. Lineas de texto\n",
      "\n",
      "3. Lineas de texto\n",
      "\n"
     ]
    }
   ],
   "source": [
    "with open('tarea_texto.txt','r') as archivo:\n",
    "    lineas = archivo.readlines()\n",
    "    print(f'cantidad de lineas: {len(lineas)}')\n",
    "    for i in lineas:\n",
    "        print(i)"
   ]
  },
  {
   "cell_type": "code",
   "execution_count": 26,
   "metadata": {},
   "outputs": [
    {
     "name": "stdout",
     "output_type": "stream",
     "text": [
      "1. Lineas de texto\n",
      "2. Lineas de texto\n",
      "3. Lineas de texto\n",
      "\n"
     ]
    }
   ],
   "source": [
    "with open('tarea_texto.txt','r') as archivo:\n",
    "    contenido = archivo.read()\n",
    "    for lineas in archivo:\n",
    "        print(2)\n",
    "    # print(f'cantidad de lineas: {cantidad}\\n')\n",
    "    print(contenido)\n"
   ]
  }
 ],
 "metadata": {
  "kernelspec": {
   "display_name": "Python 3",
   "language": "python",
   "name": "python3"
  },
  "language_info": {
   "codemirror_mode": {
    "name": "ipython",
    "version": 3
   },
   "file_extension": ".py",
   "mimetype": "text/x-python",
   "name": "python",
   "nbconvert_exporter": "python",
   "pygments_lexer": "ipython3",
   "version": "3.12.0"
  }
 },
 "nbformat": 4,
 "nbformat_minor": 2
}
