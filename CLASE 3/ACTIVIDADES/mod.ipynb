{
 "cells": [
  {
   "cell_type": "markdown",
   "metadata": {},
   "source": [
    "# Actividades de clase 3 \n",
    "\n",
    "\n",
    "\n"
   ]
  },
  {
   "cell_type": "markdown",
   "metadata": {},
   "source": [
    "Disponer dos objetos de la clase Button con las etiquetas: \"varón\" y \"mujer\", al presionarse mostrar en la barra de títulos de la ventana la etiqueta del botón presionado. (La solucion se encuentra al final de este enlace: https://www.tutorialesprogramacionya.com/pythonya/detalleconcepto.php?punto=58&codigo=58&inicio=45)"
   ]
  },
  {
   "cell_type": "code",
   "execution_count": 5,
   "metadata": {},
   "outputs": [],
   "source": [
    "import tkinter as tk\n",
    "\n",
    "\n",
    "class aplicacion:\n",
    "    def __init__(self):\n",
    "        self.window = tk.Tk()\n",
    "        self.window.title(\"Aplicacion\")\n",
    "\n",
    "        self.btn_varon = tk.Button(self.window, text =\"Varon\",command= self.press_btn_varon)\n",
    "        self.btn_varon.pack()\n",
    "\n",
    "        self.btn_dama = tk.Button(self.window, text =\"Dama\", command= self.press_btn_dama)\n",
    "        self.btn_dama.pack()\n",
    "\n",
    "        self.window.mainloop()\n",
    "\n",
    "    def press_btn_varon(self):\n",
    "        self.window.title(\"Varon\")\n",
    "    \n",
    "    def press_btn_dama(self):\n",
    "        self.window.title(\"Dama\")\n",
    "\n",
    "aplicacion = aplicacion()\n",
    "        "
   ]
  },
  {
   "cell_type": "markdown",
   "metadata": {},
   "source": [
    "### Actividad 2 \n",
    "Ingresar el nombre de usuario y clave en controles de tipo Entry. Si se ingresa la cadena (usuario: juan, clave=\"abc123\") luego mostrar en el título de la ventana el mensaje \"Correcto\" en caso contrario mostrar el mensaje \"Incorrecto\"."
   ]
  },
  {
   "cell_type": "code",
   "execution_count": 18,
   "metadata": {},
   "outputs": [
    {
     "name": "stderr",
     "output_type": "stream",
     "text": [
      "Exception in Tkinter callback\n",
      "Traceback (most recent call last):\n",
      "  File \"c:\\Users\\Ares\\AppData\\Local\\Programs\\Python\\Python312\\Lib\\tkinter\\__init__.py\", line 1948, in __call__\n",
      "    return self.func(*args)\n",
      "           ^^^^^^^^^^^^^^^^\n",
      "TypeError: aplicacion.comprobador() takes 1 positional argument but 2 were given\n",
      "Exception in Tkinter callback\n",
      "Traceback (most recent call last):\n",
      "  File \"c:\\Users\\Ares\\AppData\\Local\\Programs\\Python\\Python312\\Lib\\tkinter\\__init__.py\", line 1948, in __call__\n",
      "    return self.func(*args)\n",
      "           ^^^^^^^^^^^^^^^^\n",
      "TypeError: aplicacion.comprobador() takes 1 positional argument but 2 were given\n",
      "Exception in Tkinter callback\n",
      "Traceback (most recent call last):\n",
      "  File \"c:\\Users\\Ares\\AppData\\Local\\Programs\\Python\\Python312\\Lib\\tkinter\\__init__.py\", line 1948, in __call__\n",
      "    return self.func(*args)\n",
      "           ^^^^^^^^^^^^^^^^\n",
      "TypeError: aplicacion.comprobador() takes 1 positional argument but 2 were given\n"
     ]
    }
   ],
   "source": [
    "class aplicacion:\n",
    "\n",
    "    def __init__(self):\n",
    "        self.window = tk.Tk()\n",
    "        self.window.title(\"aplicacion - actividad 2\")\n",
    "\n",
    "        self.frm = tk.Frame(self.window, relief= tk.SUNKEN, border= 3)\n",
    "        self.frm.pack()\n",
    "        # __________________________\n",
    "        self.lbl_user = tk.Label(self.frm, text = \"User: \")\n",
    "        self.lbl_user.grid(row = 0, column = 0)\n",
    "\n",
    "        self.ent_user = tk.Entry(self.frm)\n",
    "        self.ent_user.grid(row= 0, column = 1)\n",
    "\n",
    "        # __________________________\n",
    "        self.lbl_key = tk.Label(self.frm, text = \"Contraseña:\")\n",
    "        self.lbl_key.grid(row = 1, column = 0)\n",
    "\n",
    "        self.ent_key = tk.Entry(self.frm)\n",
    "        self.ent_key.grid(row= 1, column= 1)\n",
    "\n",
    "        self.ent_key.bind('<Enter>', self.comprobador)\n",
    "        \n",
    "        self.window.mainloop()\n",
    "\n",
    "    def comprobador(self):\n",
    "        user = self.ent_user.get()\n",
    "        contraseña = self.ent_key.get()\n",
    "\n",
    "        print(f'{user} / {contraseña}')\n",
    "    \n",
    "\n",
    "\n",
    "        \n",
    "\n",
    "\n",
    "aplicacion = aplicacion()\n",
    "        "
   ]
  }
 ],
 "metadata": {
  "kernelspec": {
   "display_name": "Python 3",
   "language": "python",
   "name": "python3"
  },
  "language_info": {
   "codemirror_mode": {
    "name": "ipython",
    "version": 3
   },
   "file_extension": ".py",
   "mimetype": "text/x-python",
   "name": "python",
   "nbconvert_exporter": "python",
   "pygments_lexer": "ipython3",
   "version": "3.12.0"
  }
 },
 "nbformat": 4,
 "nbformat_minor": 2
}
