{
 "cells": [
  {
   "cell_type": "code",
   "execution_count": 1,
   "metadata": {},
   "outputs": [
    {
     "name": "stdout",
     "output_type": "stream",
     "text": [
      "('bd1',)\n",
      "('information_schema',)\n",
      "('mysql',)\n",
      "('performance_schema',)\n",
      "('phpmyadmin',)\n",
      "('test',)\n"
     ]
    }
   ],
   "source": [
    "import mysql.connector\n",
    "conexion1=mysql.connector.connect(host=\"localhost\", user=\"root\", passwd=\"\")\n",
    "cursor1=conexion1.cursor()\n",
    "cursor1.execute(\"show databases\")   # Visualizar bases de datos disponibles\n",
    "\n",
    "for base in cursor1:\n",
    "    print(base)\n",
    "conexion1.close() \n"
   ]
  },
  {
   "cell_type": "code",
   "execution_count": 2,
   "metadata": {},
   "outputs": [],
   "source": [
    "import mysql.connector\n",
    "\n",
    "conexion1=mysql.connector.connect(host=\"localhost\", \n",
    "                                  user=\"root\", \n",
    "                                  passwd=\"\", \n",
    "                                  database=\"bd1\")\n",
    "cursor1=conexion1.cursor()\n",
    "cursor1.execute(\"delete from articulos where codigo=1\")\n",
    "cursor1.execute(\"update articulos set precio=50 where codigo=3\")\n",
    "conexion1.commit()\n",
    "cursor1.execute(\"select codigo, descripcion, precio from articulos\")\n",
    "for fila in cursor1:\n",
    "    print(fila)\n",
    "conexion1.close()  "
   ]
  },
  {
   "cell_type": "markdown",
   "metadata": {},
   "source": [
    "NOTA: puede haber prioblemas al momento de conectar con la base de datos y puede deberse a otra bd que este conectada al mismo puerto que la base de mysql que esl puerto 3306. Para modificar esto\n",
    "se debe ir a servicios y modificarlo"
   ]
  },
  {
   "cell_type": "code",
   "execution_count": 7,
   "metadata": {},
   "outputs": [
    {
     "name": "stdout",
     "output_type": "stream",
     "text": [
      "(1, 324, 3, None)\n",
      "(2, 324, 3, None)\n",
      "(3, 324, 3, None)\n",
      "(4, 324, 3, None)\n",
      "(5, 324, 3, None)\n",
      "(6, 324, 3, None)\n",
      "(7, 324, 3, None)\n",
      "(8, 324, 3, None)\n",
      "(9, 324, 3, None)\n",
      "(10, 324, 3, None)\n",
      "(11, 324, 3, None)\n",
      "(12, 324, 3, None)\n"
     ]
    }
   ],
   "source": [
    "import mysql.connector\n",
    "\n",
    "conexion1=mysql.connector.connect(host=\"localhost\", \n",
    "                                  user=\"root\", \n",
    "                                  passwd=\"\", \n",
    "                                  database=\"bd1\")\n",
    "\n",
    "cursor2 = conexion1.cursor()\n",
    "for i in range(5):\n",
    "    cursor2.execute(\"insert into pedidos (cod_articulo, cantidad_articulo, fecha_pedido) values (324, 3, 02/02/2022)\")\n",
    "\n",
    "conexion1.commit()\n",
    "cursor2.execute(\"select * from pedidos\")\n",
    "\n",
    "for fila in cursor2:\n",
    "    print(fila)\n",
    "\n",
    "conexion1.close()"
   ]
  }
 ],
 "metadata": {
  "kernelspec": {
   "display_name": "Python 3",
   "language": "python",
   "name": "python3"
  },
  "language_info": {
   "codemirror_mode": {
    "name": "ipython",
    "version": 3
   },
   "file_extension": ".py",
   "mimetype": "text/x-python",
   "name": "python",
   "nbconvert_exporter": "python",
   "pygments_lexer": "ipython3",
   "version": "3.12.0"
  }
 },
 "nbformat": 4,
 "nbformat_minor": 2
}
