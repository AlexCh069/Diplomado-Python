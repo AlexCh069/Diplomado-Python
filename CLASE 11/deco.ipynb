{
 "cells": [
  {
   "cell_type": "code",
   "execution_count": 1,
   "metadata": {},
   "outputs": [
    {
     "name": "stdout",
     "output_type": "stream",
     "text": [
      "55\n",
      "6765\n",
      "55\n"
     ]
    }
   ],
   "source": [
    "def memoizacion(funcion):\n",
    "    cache = {}\n",
    "\n",
    "    def funcion_decorada(*args):\n",
    "        if args not in cache:\n",
    "            cache[args] = funcion(*args)\n",
    "        return cache[args]\n",
    "\n",
    "    return funcion_decorada\n",
    "\n",
    "@memoizacion\n",
    "def fibonacci(n):\n",
    "    if n <= 1:\n",
    "        return n\n",
    "    else:\n",
    "        return fibonacci(n-1) + fibonacci(n-2)\n",
    "\n",
    "# Probemos la función memoizada\n",
    "print(fibonacci(10))  # Llamada costosa\n",
    "print(fibonacci(20))  # Los resultados están en caché\n",
    "print(fibonacci(10))  # Los resultados están en caché, no se recalcula\n"
   ]
  },
  {
   "cell_type": "code",
   "execution_count": 3,
   "metadata": {},
   "outputs": [
    {
     "name": "stdout",
     "output_type": "stream",
     "text": [
      "Ejecutando ejemplo\n",
      "\n",
      "Función ejemplo llamada 1 veces\n",
      "Tiempo de ejecución promedio: 1.0010054111480713 segundos\n",
      "Ejecutando otra función\n",
      "\n",
      "Función otra_funcion llamada 1 veces\n",
      "Tiempo de ejecución promedio: 2.0002431869506836 segundos\n",
      "Ejecutando ejemplo\n",
      "\n",
      "Función ejemplo llamada 2 veces\n",
      "Tiempo de ejecución promedio: 1.000723123550415 segundos\n",
      "Ejecutando otra función\n",
      "\n",
      "Función otra_funcion llamada 2 veces\n",
      "Tiempo de ejecución promedio: 2.0003098249435425 segundos\n"
     ]
    }
   ],
   "source": [
    "import time\n",
    "\n",
    "def registrar_informacion(funcion):\n",
    "    def funcion_decorada(*args, **kwargs):\n",
    "        inicio = time.time()\n",
    "        resultado = funcion(*args, **kwargs)\n",
    "        fin = time.time()\n",
    "        tiempo_ejecucion = fin - inicio\n",
    "        funcion_decorada.llamadas += 1\n",
    "        funcion_decorada.tiempo_total += tiempo_ejecucion\n",
    "        print(f\"Función {funcion.__name__} llamada {funcion_decorada.llamadas} veces\")\n",
    "        print(f\"Tiempo de ejecución promedio: {funcion_decorada.tiempo_total / funcion_decorada.llamadas} segundos\")\n",
    "        return resultado\n",
    "\n",
    "    funcion_decorada.llamadas = 0\n",
    "    funcion_decorada.tiempo_total = 0\n",
    "\n",
    "    return funcion_decorada\n",
    "\n",
    "@registrar_informacion\n",
    "def ejemplo():\n",
    "    time.sleep(1)\n",
    "    print(\"Ejecutando ejemplo\")\n",
    "    print('')\n",
    "\n",
    "@registrar_informacion\n",
    "def otra_funcion():\n",
    "    time.sleep(2)\n",
    "    print(\"Ejecutando otra función\")\n",
    "    print('')\n",
    "\n",
    "# Probemos las funciones decoradas\n",
    "ejemplo()\n",
    "otra_funcion()\n",
    "ejemplo()\n",
    "otra_funcion()\n"
   ]
  },
  {
   "cell_type": "code",
   "execution_count": 5,
   "metadata": {},
   "outputs": [
    {
     "name": "stdout",
     "output_type": "stream",
     "text": [
      "Ejecutando ejemplo\n",
      "Ejecutando otra función\n"
     ]
    }
   ],
   "source": [
    "import time\n",
    "\n",
    "def medir_tiempo(funcion):\n",
    "    def wrapper(*args, **kwargs):\n",
    "        inicio = time.time()\n",
    "        resultado = funcion(*args, **kwargs)\n",
    "        fin = time.time()\n",
    "        tiempo_transcurrido = fin - inicio\n",
    "        with open(\"registro.txt\", \"a\") as archivo:\n",
    "            archivo.write(f\"Función '{funcion.__name__}' - Tiempo: {tiempo_transcurrido} segundos\\n\")\n",
    "        return resultado\n",
    "    return wrapper\n",
    "\n",
    "@medir_tiempo\n",
    "def ejemplo():\n",
    "    time.sleep(2)\n",
    "    print(\"Ejecutando ejemplo\")\n",
    "\n",
    "@medir_tiempo\n",
    "def otra_funcion():\n",
    "    time.sleep(1)\n",
    "    print(\"Ejecutando otra función\")\n",
    "\n",
    "# Probemos las funciones decoradas\n",
    "ejemplo()\n",
    "otra_funcion()\n"
   ]
  },
  {
   "cell_type": "code",
   "execution_count": 6,
   "metadata": {},
   "outputs": [
    {
     "name": "stdout",
     "output_type": "stream",
     "text": [
      "Número: 10, Flotante: 3.14, Cadena: Hola\n"
     ]
    }
   ],
   "source": [
    "def validar_tipos(*tipos_esperados):\n",
    "    def decorador(funcion):\n",
    "        def wrapper(*args, **kwargs):\n",
    "            # Verificar los argumentos posicionales\n",
    "            for arg, tipo_esperado in zip(args, tipos_esperados):\n",
    "                if not isinstance(arg, tipo_esperado):\n",
    "                    raise TypeError(f\"El argumento {arg} no es del tipo {tipo_esperado.__name__}\")\n",
    "\n",
    "            # Verificar los argumentos de palabra clave\n",
    "            for clave, valor in kwargs.items():\n",
    "                if not isinstance(valor, tipos_esperados[len(args):][kwargs.index(clave)]):\n",
    "                    raise TypeError(f\"El argumento {clave}={valor} no es del tipo {tipos_esperados[len(args):][kwargs.index(clave)].__name__}\")\n",
    "\n",
    "            return funcion(*args, **kwargs)\n",
    "        return wrapper\n",
    "    return decorador\n",
    "\n",
    "@validar_tipos(int, float, str)\n",
    "def funcion_ejemplo(numero, flotante, cadena):\n",
    "    print(f\"Número: {numero}, Flotante: {flotante}, Cadena: {cadena}\")\n",
    "\n",
    "# Probemos la función decorada\n",
    "funcion_ejemplo(10, 3.14, 'Hola')\n"
   ]
  },
  {
   "cell_type": "code",
   "execution_count": 9,
   "metadata": {},
   "outputs": [
    {
     "name": "stdout",
     "output_type": "stream",
     "text": [
      "Número: 10, Flotante: 3.14, Cadena: Hola\n"
     ]
    }
   ],
   "source": [
    "funcion_ejemplo(10, 3.14, 'Hola')"
   ]
  }
 ],
 "metadata": {
  "kernelspec": {
   "display_name": "Python 3",
   "language": "python",
   "name": "python3"
  },
  "language_info": {
   "codemirror_mode": {
    "name": "ipython",
    "version": 3
   },
   "file_extension": ".py",
   "mimetype": "text/x-python",
   "name": "python",
   "nbconvert_exporter": "python",
   "pygments_lexer": "ipython3",
   "version": "3.12.0"
  }
 },
 "nbformat": 4,
 "nbformat_minor": 2
}
