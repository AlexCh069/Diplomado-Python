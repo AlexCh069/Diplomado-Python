{
 "cells": [
  {
   "cell_type": "code",
   "execution_count": 9,
   "metadata": {},
   "outputs": [],
   "source": [
    "import tkinter as tk\n",
    "from tkinter import ttk\n",
    "\n",
    "class Aplicacion:\n",
    "    def __init__(self):\n",
    "        self.window = tk.Tk()\n",
    "        self.window.title(\"Prueba multiventana\")\n",
    "\n",
    "        # -------------------------------------------------------\n",
    "        self.ntb = ttk.Notebook(self.window)    # Creamos el notebook\n",
    "\n",
    "        # -------------------------------------------------------\n",
    "        self.pgn1 = ttk.Frame(self.ntb)     # Creamos una pagina\n",
    "        self.ntb.add(self.pgn1, text= 'Button')\n",
    "\n",
    "        self.lbl_1 = ttk.Label(self.pgn1, text= \"prueba de lo que supuestamente se\")\n",
    "        self.lbl_1.grid(row=0, column = 0)\n",
    "\n",
    "        self.ntb.grid(row= 0, column= 0)\n",
    "        self.window.mainloop()\n",
    "\n",
    "aplicacion = Aplicacion()"
   ]
  }
 ],
 "metadata": {
  "kernelspec": {
   "display_name": "Python 3",
   "language": "python",
   "name": "python3"
  },
  "language_info": {
   "codemirror_mode": {
    "name": "ipython",
    "version": 3
   },
   "file_extension": ".py",
   "mimetype": "text/x-python",
   "name": "python",
   "nbconvert_exporter": "python",
   "pygments_lexer": "ipython3",
   "version": "3.12.0"
  }
 },
 "nbformat": 4,
 "nbformat_minor": 2
}
