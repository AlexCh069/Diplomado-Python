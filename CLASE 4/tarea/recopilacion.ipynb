{
 "cells": [
  {
   "cell_type": "code",
   "execution_count": 1,
   "metadata": {},
   "outputs": [],
   "source": [
    "import tkinter as tk"
   ]
  },
  {
   "cell_type": "markdown",
   "metadata": {},
   "source": [
    "## NOTEBOOK"
   ]
  },
  {
   "cell_type": "code",
   "execution_count": 3,
   "metadata": {},
   "outputs": [],
   "source": [
    "import tkinter as tk\n",
    "from tkinter import ttk\n",
    "\n",
    "class Aplicacion:\n",
    "    def __init__(self):\n",
    "        self.ventana1=tk.Tk()\n",
    "        self.ventana1.title(\"Prueba del control Notebook\")\n",
    "        # ______________________________________________________________\n",
    "        self.cuaderno1 = ttk.Notebook(self.ventana1)#CREANDO EL CUADERNO\n",
    "        \n",
    "        # _____________________________________________\n",
    "        self.pagina1 = ttk.Frame(self.cuaderno1)\n",
    "        self.cuaderno1.add(self.pagina1, text=\"Button\")\n",
    "        \n",
    "        self.label1=ttk.Label(self.pagina1, text=\"La clase Button nos permite capturar el clic y lanzar un método.\")\n",
    "        self.label1.grid(column=0, row=0)\n",
    "        \n",
    "        self.boton1=ttk.Button(self.pagina1, text=\"Ejemplo de botón\")\n",
    "        self.boton1.grid(column=0, row=1)\n",
    "        \n",
    "        self.boton2=ttk.Button(self.pagina1, text=\"Ejemplo de botón inactivo\", state=\"disabled\")\n",
    "        self.boton2.grid(column=0, row=2)\n",
    "\n",
    "        #_____________________________________________\n",
    "        self.pagina2 = ttk.Frame(self.cuaderno1)\n",
    "        \n",
    "        self.cuaderno1.add(self.pagina2, text=\"Label\")\n",
    "        \n",
    "        self.label2=ttk.Label(self.pagina2, text=\"La clase Label permite mostrar un mensaje en la ventana\")\n",
    "        self.label2.grid(column=0, row=0)\n",
    "        self.label3=ttk.Label(self.pagina2, text=\"con los caracteres \\\\n podemos hacer un salto de línea dentro de la Label\")\n",
    "        self.label3.grid(column=0, row=1)\n",
    "\n",
    "        self.pagina3 = ttk.Frame(self.cuaderno1)\n",
    "        self.cuaderno1.add(self.pagina3, text=\"Entry\")\n",
    "        self.label4=ttk.Label(self.pagina3, text=\"\"\"En tkinter el control de entrada de datos por teclado se llama Entry.\\n\n",
    "Con este control aparece el típico recuadro que cuando se le da foco aparece el cursor en forma intermitente\\n\n",
    "esperando que el operador escriba algo por teclado.\"\"\")\n",
    "        self.label4.grid(column=0, row=0)\n",
    "        self.entry1=tk.Entry(self.pagina3, width=30)\n",
    "        self.entry1.grid(column=0, row=1) \n",
    "\n",
    "        \n",
    "        \n",
    "\n",
    "        self.cuaderno1.grid(column=0, row=0)        \n",
    "\n",
    "        self.ventana1.mainloop()\n",
    "\n",
    "#programa principal\n",
    "aplicacion1=Aplicacion()"
   ]
  },
  {
   "cell_type": "code",
   "execution_count": 10,
   "metadata": {},
   "outputs": [
    {
     "name": "stdout",
     "output_type": "stream",
     "text": [
      "Collecting mysql-connector\n",
      "  Downloading mysql-connector-2.2.9.tar.gz (11.9 MB)\n",
      "     ---------------------------------------- 0.0/11.9 MB ? eta -:--:--\n",
      "     ---------------------------------------- 0.0/11.9 MB ? eta -:--:--\n",
      "     ---------------------------------------- 0.1/11.9 MB 1.1 MB/s eta 0:00:12\n",
      "     -- ------------------------------------- 0.8/11.9 MB 6.1 MB/s eta 0:00:02\n",
      "     ------------ --------------------------- 3.7/11.9 MB 21.4 MB/s eta 0:00:01\n",
      "     ----------------------- ---------------- 7.1/11.9 MB 32.5 MB/s eta 0:00:01\n",
      "     --------------------------------- ----- 10.3/11.9 MB 43.7 MB/s eta 0:00:01\n",
      "     --------------------------------------  11.8/11.9 MB 72.6 MB/s eta 0:00:01\n",
      "     --------------------------------------- 11.9/11.9 MB 59.4 MB/s eta 0:00:00\n",
      "  Installing build dependencies: started\n",
      "  Installing build dependencies: finished with status 'done'\n",
      "  Getting requirements to build wheel: started\n",
      "  Getting requirements to build wheel: finished with status 'done'\n",
      "  Preparing metadata (pyproject.toml): started\n",
      "  Preparing metadata (pyproject.toml): finished with status 'done'\n",
      "Building wheels for collected packages: mysql-connector\n",
      "  Building wheel for mysql-connector (pyproject.toml): started\n",
      "  Building wheel for mysql-connector (pyproject.toml): finished with status 'done'\n",
      "  Created wheel for mysql-connector: filename=mysql_connector-2.2.9-cp312-cp312-win_amd64.whl size=247958 sha256=bc57802c5f3e03d469e430fb92377b4cd663e0c2fbf997d9eac018681d3139ab\n",
      "  Stored in directory: c:\\users\\ares\\appdata\\local\\pip\\cache\\wheels\\03\\17\\fa\\d7604c72dd3dd6d3eb3d249abf36cc532c9a9b4354b8f1bc4f\n",
      "Successfully built mysql-connector\n",
      "Installing collected packages: mysql-connector\n",
      "Successfully installed mysql-connector-2.2.9\n",
      "Note: you may need to restart the kernel to use updated packages.\n"
     ]
    },
    {
     "name": "stderr",
     "output_type": "stream",
     "text": [
      "\n",
      "[notice] A new release of pip is available: 23.3.1 -> 23.3.2\n",
      "[notice] To update, run: python.exe -m pip install --upgrade pip\n"
     ]
    }
   ],
   "source": [
    "pip install mysql-connector"
   ]
  },
  {
   "cell_type": "markdown",
   "metadata": {},
   "source": [
    "## LABELFRAME\n"
   ]
  },
  {
   "cell_type": "code",
   "execution_count": 6,
   "metadata": {},
   "outputs": [],
   "source": [
    "import tkinter as tk\n",
    "from tkinter import ttk\n",
    "\n",
    "class Aplicacion:\n",
    "    def __init__(self):\n",
    "        self.ventana1=tk.Tk()\n",
    "        self.labelframe1=ttk.LabelFrame(self.ventana1, text=\"Login:\")        \n",
    "        self.labelframe1.grid(column=0, row=0, padx=5, pady=10)        \n",
    "        self.login()\n",
    "        \n",
    "        self.labelframe2=ttk.LabelFrame(self.ventana1, text=\"Operaciones\")        \n",
    "        self.labelframe2.grid(column=0, padx=5, pady=10)        \n",
    "        self.operaciones()\n",
    "        self.ventana1.mainloop()\n",
    "\n",
    "    def login(self):\n",
    "        self.label1=ttk.Label(self.labelframe1, text=\"Nombre de usuario:\")\n",
    "        self.label1.grid(column=0, row=0, padx=4, pady=4)\n",
    "        self.entry1=ttk.Entry(self.labelframe1)\n",
    "        self.entry1.grid(column=1, row=0, padx=4, pady=4)\n",
    "        self.label2=ttk.Label(self.labelframe1, text=\"Ingrese clave:\")        \n",
    "        self.label2.grid(column=0, row=1, padx=4, pady=4)\n",
    "        self.entry2=ttk.Entry(self.labelframe1, show=\"*\")\n",
    "        self.entry2.grid(column=1, row=1, padx=4, pady=4)\n",
    "        self.boton1=ttk.Button(self.labelframe1, text=\"Ingresar\")\n",
    "        self.boton1.grid(column=1, row=2, padx=4, pady=4)\n",
    "\n",
    "    def operaciones(self):\n",
    "        self.boton2=ttk.Button(self.labelframe2, text=\"Agregar usuario\")\n",
    "        self.boton2.grid(column=0, row=0, padx=4, pady=4)\n",
    "        self.boton3=ttk.Button(self.labelframe2, text=\"Modificar usuario\")\n",
    "        self.boton3.grid(column=1, row=0, padx=4, pady=4)\n",
    "        self.boton4=ttk.Button(self.labelframe2, text=\"Borrar usuario\")\n",
    "        self.boton4.grid(column=2, row=0, padx=4, pady=4)\n",
    "    \n",
    "\n",
    "\n",
    "aplicacion1=Aplicacion()"
   ]
  }
 ],
 "metadata": {
  "kernelspec": {
   "display_name": "Python 3",
   "language": "python",
   "name": "python3"
  },
  "language_info": {
   "codemirror_mode": {
    "name": "ipython",
    "version": 3
   },
   "file_extension": ".py",
   "mimetype": "text/x-python",
   "name": "python",
   "nbconvert_exporter": "python",
   "pygments_lexer": "ipython3",
   "version": "3.12.0"
  }
 },
 "nbformat": 4,
 "nbformat_minor": 2
}
