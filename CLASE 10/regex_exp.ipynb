{
 "cells": [
  {
   "cell_type": "markdown",
   "metadata": {},
   "source": [
    "## Patrones de REGEX\n",
    "\n",
    "Aquí te proporciono una lista de algunos patrones comunes que puedes usar en expresiones regulares en Python:\n",
    "\n",
    "1. **\\d**: Coincide con cualquier dígito decimal; es equivalente a la clase de caracteres [0-9].\n",
    "2. **\\D**: Coincide con cualquier carácter que no sea un dígito; es equivalente a la clase de caracteres [^0-9].\n",
    "3. **\\w**: Coincide con cualquier carácter alfanumérico; es equivalente a la clase de caracteres [a-zA-Z0-9_].\n",
    "4. **\\W**: Coincide con cualquier carácter que no sea alfanumérico; es equivalente a la clase de caracteres [^a-zA-Z0-9_].\n",
    "5. **\\s**: Coincide con cualquier carácter de espacio en blanco, como espacios, tabulaciones, saltos de línea, etc.\n",
    "6. **\\S**: Coincide con cualquier carácter que no sea un espacio en blanco.\n",
    "7. **\\b**: Coincide con un límite de palabra (es decir, el inicio o el final de una palabra).\n",
    "8. **\\B**: Coincide con cualquier lugar que no sea un límite de palabra.\n",
    "9. **.**: Coincide con cualquier carácter excepto el salto de línea (\\n).\n",
    "10. **^**: Coincide con el inicio de la cadena.\n",
    "11. **$**: Coincide con el final de la cadena.\n",
    "12. **[ ]**: Define un conjunto de caracteres. Por ejemplo, [aeiou] coincidirá con cualquier vocal.\n",
    "13. **[^ ]**: Define un conjunto de caracteres negado. Por ejemplo, [^0-9] coincidirá con cualquier carácter que no sea un dígito.\n",
    "14. **( )**: Agrupa subpatrones.\n",
    "15. **|**: Operador \"o\" que indica alternancia. Por ejemplo, (a|b) coincidirá con 'a' o 'b'.\n",
    "\n",
    "Estos son solo algunos de los patrones más comunes utilizados en expresiones regulares. La lista completa de patrones y operadores es más extensa y puede ser más compleja dependiendo de la funcionalidad que necesites implementar."
   ]
  },
  {
   "cell_type": "markdown",
   "metadata": {},
   "source": [
    "## EJEMPLOS DE PATRONES "
   ]
  },
  {
   "cell_type": "code",
   "execution_count": 9,
   "metadata": {},
   "outputs": [
    {
     "name": "stdout",
     "output_type": "stream",
     "text": [
      "['2', '5']\n"
     ]
    }
   ],
   "source": [
    "\n",
    "# 1. \\d: Coincide con cualquier dígito decimal; es equivalente a la clase de caracteres [0-9].\n",
    "\n",
    "import re\n",
    "\n",
    "texto = \"La temperatura es 25 grados Celsius.\"\n",
    "patron = r'\\d'\n",
    "\n",
    "resultado = re.findall(patron, texto)\n",
    "\n",
    "print(resultado)  # Salida: ['2', '5']"
   ]
  },
  {
   "cell_type": "code",
   "execution_count": 10,
   "metadata": {},
   "outputs": [
    {
     "name": "stdout",
     "output_type": "stream",
     "text": [
      "['E', 'l', ' ', '%', ' ', 'd', 'e', ' ', 'l', 'o', 's', ' ', 'e', 's', 't', 'u', 'd', 'i', 'a', 'n', 't', 'e', 's', ' ', 'p', 'a', 's', 'a', 'r', 'o', 'n', ' ', 'e', 'l', ' ', 'e', 'x', 'a', 'm', 'e', 'n', '.']\n"
     ]
    }
   ],
   "source": [
    "\n",
    "\n",
    "# 2. \\D: Coincide con cualquier carácter que no sea un dígito; es equivalente a la clase de caracteres [^0-9].\n",
    "\n",
    "import re\n",
    "\n",
    "texto = \"El 80% de los estudiantes pasaron el examen.\"\n",
    "patron = r'\\D'\n",
    "\n",
    "resultado = re.findall(patron, texto)\n",
    "\n",
    "print(resultado)  # Salida: ['E', 'l', ' ', '%', ' ', 'd', 'e', ' ', 'l', 'o', 's', ' ', 'e', 's', 't', 'u', 'd', 'i', 'a', 'n', 't', 'e', 's', ' ', 'p', 'a', 's', 'a', 'r', 'o', 'n', ' ', 'e', 'l', ' ', 'e', 'x', 'a', 'm', 'e', 'n', '.']"
   ]
  },
  {
   "cell_type": "code",
   "execution_count": null,
   "metadata": {},
   "outputs": [],
   "source": [
    "\n",
    "\n",
    "# 3. \\w: Coincide con cualquier carácter alfanumérico; es equivalente a la clase de caracteres [a-zA-Z0-9_].\n",
    "\n",
    "import re\n",
    "\n",
    "texto = \"El usuario admin_123 tiene acceso.\"\n",
    "patron = r'\\w+'\n",
    "\n",
    "resultado = re.findall(patron, texto)\n",
    "\n",
    "print(resultado)  # Salida: ['El', 'usuario', 'admin_123', 'tiene', 'acceso']\n"
   ]
  },
  {
   "cell_type": "code",
   "execution_count": null,
   "metadata": {},
   "outputs": [],
   "source": [
    "\n",
    "#  4. \\W: Coincide con cualquier carácter que no sea alfanumérico; es equivalente a la clase de caracteres [^a-zA-Z0-9_].\n",
    "\n",
    "import re\n",
    "\n",
    "texto = \"El usuario admin_123 tiene acceso.\"\n",
    "patron = r'\\W'\n",
    "\n",
    "resultado = re.findall(patron, texto)\n",
    "\n",
    "print(resultado)  # Salida: [' ', ' ', ' ', ' ', '.']\n"
   ]
  },
  {
   "cell_type": "code",
   "execution_count": null,
   "metadata": {},
   "outputs": [],
   "source": [
    "\n",
    "# 5. \\s: Coincide con cualquier carácter de espacio en blanco, como espacios, tabulaciones, saltos de línea, etc.\n",
    "\n",
    "import re\n",
    "\n",
    "texto = \"Hola,\\t¿cómo estás?\\nBien, gracias.\"\n",
    "patron = r'\\s'\n",
    "\n",
    "resultado = re.findall(patron, texto)\n",
    "\n",
    "print(resultado)  # Salida: ['\\t', '\\n', ' ', ' ', '\\n']\n"
   ]
  },
  {
   "cell_type": "code",
   "execution_count": null,
   "metadata": {},
   "outputs": [],
   "source": [
    "\n",
    "# 6. \\S: Coincide con cualquier carácter que no sea un espacio en blanco.\n",
    "\n",
    "import re\n",
    "\n",
    "texto = \"Esto es una frase con varios espacios.\"\n",
    "patron = r'\\S+'\n",
    "\n",
    "resultado = re.findall(patron, texto)\n",
    "\n",
    "print(resultado)  # Salida: ['Esto', 'es', 'una', 'frase', 'con', 'varios', 'espacios.']\n"
   ]
  },
  {
   "cell_type": "code",
   "execution_count": 20,
   "metadata": {},
   "outputs": [
    {
     "name": "stdout",
     "output_type": "stream",
     "text": [
      "['Esto']\n"
     ]
    }
   ],
   "source": [
    "#  7. \\b: Coincide con un límite de palabra (es decir, el inicio o el final de una palabra).\n",
    "\n",
    "import re\n",
    "\n",
    "texto = \"Esto es una prueba.\"\n",
    "patron = r'\\b\\w{4}\\b'\n",
    "\n",
    "resultado = re.findall(patron, texto)\n",
    "\n",
    "print(resultado)  # Salida: ['Esto']\n",
    "\n",
    "# '''patron = r'\\b\\w{3}\\b': Aquí está definido el patrón que se utilizará para buscar coincidencias en el texto. Desglosemos el patrón:\n",
    "\n",
    "# \\b: Coincide con un límite de palabra, lo que significa que coincide con el inicio o el final de una palabra.\n",
    "# \\w{4}: Coincide con exactamente 4 caracteres alfanuméricos consecutivos. \n",
    "# \\w representa cualquier carácter alfanumérico (letras del alfabeto, dígitos o guiones bajos) y {3} indica que debe coincidir exactamente tres veces.\n",
    "# \\b: Otro límite de palabra, lo que significa que la coincidencia debe terminar en el límite de una palabra.\n",
    "# '''\n"
   ]
  },
  {
   "cell_type": "code",
   "execution_count": 23,
   "metadata": {},
   "outputs": [
    {
     "name": "stdout",
     "output_type": "stream",
     "text": [
      "['ue', 'ue', 'ue']\n"
     ]
    }
   ],
   "source": [
    "#  8. \\B: Coincide con cualquier lugar que no sea un límite de palabra.\n",
    "\n",
    "import re\n",
    "\n",
    "texto = \"Esto es una prueba. dueba rueda\"\n",
    "patron = r'\\Bue\\B'\n",
    "\n",
    "resultado = re.findall(patron, texto)\n",
    "\n",
    "print(resultado)  # Salida: ['ue', 'ue', 'ue']\n"
   ]
  },
  {
   "cell_type": "code",
   "execution_count": 25,
   "metadata": {},
   "outputs": [
    {
     "name": "stdout",
     "output_type": "stream",
     "text": [
      "['Esto es una prueba.', ' sadsfer']\n"
     ]
    }
   ],
   "source": [
    "\n",
    "# 9. \".\": Coincide con cualquier carácter excepto el salto de línea (\\n).\n",
    "\n",
    "import re\n",
    "\n",
    "texto = \"Esto es una prueba.\\n sadsfer\"\n",
    "patron = r'.+'\n",
    "\n",
    "resultado = re.findall(patron, texto)\n",
    "\n",
    "print(resultado)  # Salida: ['Esto es una prueba.', ' sadsfer']"
   ]
  },
  {
   "cell_type": "code",
   "execution_count": 26,
   "metadata": {},
   "outputs": [
    {
     "name": "stdout",
     "output_type": "stream",
     "text": [
      "['Inicio']\n"
     ]
    }
   ],
   "source": [
    "\n",
    "# 10. **^**: Coincide con el inicio de la cadena.\n",
    "\n",
    "import re\n",
    "\n",
    "texto = \"Inicio de la cadena.\"\n",
    "patron = r'^Inicio'\n",
    "\n",
    "resultado = re.findall(patron, texto)\n",
    "\n",
    "print(resultado)  # Salida: ['Inicio']\n"
   ]
  },
  {
   "cell_type": "code",
   "execution_count": 27,
   "metadata": {},
   "outputs": [
    {
     "name": "stdout",
     "output_type": "stream",
     "text": [
      "['cadena.']\n"
     ]
    }
   ],
   "source": [
    "\n",
    "# 11. $: Coincide con el final de la cadena.\n",
    "\n",
    "import re\n",
    "\n",
    "texto = \"Final de la cadena.\"\n",
    "patron = r'cadena.$'\n",
    "\n",
    "resultado = re.findall(patron, texto)\n",
    "\n",
    "print(resultado)  # Salida: ['cadena.']\n"
   ]
  },
  {
   "cell_type": "code",
   "execution_count": null,
   "metadata": {},
   "outputs": [],
   "source": [
    "# 12. [ ]: Define un conjunto de caracteres. Por ejemplo, [aeiou] coincidirá con cualquier vocal.\n",
    "\n",
    "import re\n",
    "\n",
    "texto = \"La palabra 'Python' contiene letras.\"\n",
    "patron = r'[aeiou]'\n",
    "\n",
    "resultado = re.findall(patron, texto)\n",
    "\n",
    "print(resultado)  # Salida: ['a', 'a', 'o', 'o', 'e', 'e', 'a', 'a']"
   ]
  },
  {
   "cell_type": "code",
   "execution_count": 28,
   "metadata": {},
   "outputs": [
    {
     "name": "stdout",
     "output_type": "stream",
     "text": [
      "[' ', 'ñ', ' ', ':', ' ', '#']\n"
     ]
    }
   ],
   "source": [
    "\n",
    "\n",
    "#  13. [^ ]: Define un conjunto de caracteres negado. Por ejemplo, [^0-9] coincidirá con cualquier carácter que no sea un dígito.\n",
    "\n",
    "import re\n",
    "\n",
    "texto = \"La contraseña es: Abc123#\"\n",
    "patron = r'[^a-zA-Z0-9]'\n",
    "\n",
    "resultado = re.findall(patron, texto)\n",
    "\n",
    "print(resultado)  # Salida: [' ', ':', '#']\n",
    "\n",
    "# [^...]: Este es un conjunto de caracteres negado. La expresión dentro de los corchetes indica los caracteres que se excluyen de la búsqueda.\n",
    "# a-zA-Z0-9: Este es un rango de caracteres que incluye todas las letras minúsculas (a-z), todas las letras mayúsculas (A-Z) y todos los dígitos (0-9). \n",
    "# Estos son los caracteres alfanuméricos.\n",
    "# ^ (dentro de los corchetes): Cuando el símbolo ^ aparece como el primer carácter dentro de los corchetes, indica negación. En este contexto, \n",
    "#  [^a-zA-Z0-9] significa \"cualquier carácter que no sea una letra minúscula, una letra mayúscula o un dígito\"."
   ]
  },
  {
   "cell_type": "markdown",
   "metadata": {},
   "source": [
    "## Concidencia de patron simple "
   ]
  },
  {
   "cell_type": "code",
   "execution_count": 4,
   "metadata": {},
   "outputs": [
    {
     "name": "stdout",
     "output_type": "stream",
     "text": [
      "Se encontró el patrón.\n",
      "<re.Match object; span=(6, 8), match='45'>\n"
     ]
    }
   ],
   "source": [
    "import re\n",
    "\n",
    "# Definir el patrón que buscamos\n",
    "patron = r'\\d+'     # Busqueda de secuencia de digitos\n",
    "\n",
    "# Cadena de texto en la que buscamos el patrón\n",
    "texto = 'Hola, 45 ¿cómo estás? 12 ffr 123'\n",
    "\n",
    "# Buscar el patrón en el texto\n",
    "coincidencia = re.search(patron, texto)     # Solo encuentra la primera secuencia de digitos \n",
    "\n",
    "if coincidencia:\n",
    "    print('Se encontró el patrón.')\n",
    "    print(coincidencia)\n",
    "else:\n",
    "    print('No se encontró el patrón.')\n"
   ]
  },
  {
   "cell_type": "markdown",
   "metadata": {},
   "source": [
    "## Buscar y Reemplazar "
   ]
  },
  {
   "cell_type": "code",
   "execution_count": 1,
   "metadata": {},
   "outputs": [
    {
     "name": "stdout",
     "output_type": "stream",
     "text": [
      "Tengo número perros y número gatos.\n"
     ]
    }
   ],
   "source": [
    "import re\n",
    "\n",
    "# Definir el patrón que queremos reemplazar\n",
    "patron = r'\\d+'  # Buscará cualquier secuencia de dígitos\n",
    "\n",
    "# Cadena de texto en la que queremos hacer el reemplazo\n",
    "texto = 'Tengo 3 perros y 2 gatos.'\n",
    "\n",
    "# Reemplazar los números por la palabra 'número'\n",
    "resultado = re.sub(patron, 'número', texto)\n",
    "\n",
    "print(resultado)  # Tengo número perros y número gatos.\n"
   ]
  },
  {
   "cell_type": "markdown",
   "metadata": {},
   "source": [
    "## Dividir una cadena en funcion de un patron "
   ]
  },
  {
   "cell_type": "code",
   "execution_count": 7,
   "metadata": {},
   "outputs": [
    {
     "name": "stdout",
     "output_type": "stream",
     "text": [
      "['Esto', 'es', 'una', 'frase', 'con', 'varios', 'espacios.']\n"
     ]
    }
   ],
   "source": [
    "import re\n",
    "\n",
    "# Definir el patrón para dividir la cadena\n",
    "patron = r'\\s+'  # Dividir por espacios en blanco\n",
    "\n",
    "# Cadena de texto que queremos dividir\n",
    "texto = 'Esto es una frase    con     varios espacios.'\n",
    "\n",
    "# Dividir la cadena en función del patrón\n",
    "resultado = re.split(patron, texto)\n",
    "\n",
    "print(resultado)  # ['Esto', 'es', 'una', 'frase', 'con', 'varios', 'espacios.']\n"
   ]
  },
  {
   "cell_type": "markdown",
   "metadata": {},
   "source": [
    "## Encontrar todas las ocurrencias de un patron en la cadena "
   ]
  },
  {
   "cell_type": "code",
   "execution_count": null,
   "metadata": {},
   "outputs": [],
   "source": [
    "import re\n",
    "\n",
    "# Definir el patrón que buscamos\n",
    "patron = r'\\d+'  # Buscará cualquier secuencia de dígitos\n",
    "\n",
    "# Cadena de texto en la que queremos encontrar todas las ocurrencias del patrón\n",
    "texto = 'Hay 3 manzanas, 5 naranjas y 8 plátanos.'\n",
    "\n",
    "# Encontrar todas las ocurrencias del patrón en el texto\n",
    "resultados = re.findall(patron, texto)\n",
    "\n",
    "print(resultados)  # ['3', '5', '8']\n"
   ]
  }
 ],
 "metadata": {
  "kernelspec": {
   "display_name": "Python 3",
   "language": "python",
   "name": "python3"
  },
  "language_info": {
   "codemirror_mode": {
    "name": "ipython",
    "version": 3
   },
   "file_extension": ".py",
   "mimetype": "text/x-python",
   "name": "python",
   "nbconvert_exporter": "python",
   "pygments_lexer": "ipython3",
   "version": "3.12.0"
  }
 },
 "nbformat": 4,
 "nbformat_minor": 2
}
